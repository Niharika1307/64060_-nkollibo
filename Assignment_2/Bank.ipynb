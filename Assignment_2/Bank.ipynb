{
  "cells": [
    {
      "cell_type": "code",
      "execution_count": 1,
      "metadata": {
        "colab": {
          "base_uri": "https://localhost:8080/"
        },
        "id": "hN7LlT7Uje5c",
        "outputId": "92b4dc3d-452a-467b-b851-20d3bf743109"
      },
      "outputs": [
        {
          "output_type": "stream",
          "name": "stdout",
          "text": [
            "Looking in indexes: https://pypi.org/simple, https://us-python.pkg.dev/colab-wheels/public/simple/\n",
            "Collecting hmmlearn\n",
            "  Downloading hmmlearn-0.2.8-cp37-cp37m-manylinux_2_5_x86_64.manylinux1_x86_64.whl (217 kB)\n",
            "\u001b[K     |████████████████████████████████| 217 kB 17.6 MB/s \n",
            "\u001b[?25hRequirement already satisfied: numpy>=1.10 in /usr/local/lib/python3.7/dist-packages (from hmmlearn) (1.21.6)\n",
            "Requirement already satisfied: scipy>=0.19 in /usr/local/lib/python3.7/dist-packages (from hmmlearn) (1.7.3)\n",
            "Requirement already satisfied: scikit-learn>=0.16 in /usr/local/lib/python3.7/dist-packages (from hmmlearn) (1.0.2)\n",
            "Requirement already satisfied: threadpoolctl>=2.0.0 in /usr/local/lib/python3.7/dist-packages (from scikit-learn>=0.16->hmmlearn) (3.1.0)\n",
            "Requirement already satisfied: joblib>=0.11 in /usr/local/lib/python3.7/dist-packages (from scikit-learn>=0.16->hmmlearn) (1.1.0)\n",
            "Installing collected packages: hmmlearn\n",
            "Successfully installed hmmlearn-0.2.8\n"
          ]
        }
      ],
      "source": [
        "import numpy as np\n",
        "import pandas as pd\n",
        "import matplotlib.pyplot as plt \n",
        "!pip install hmmlearn\n",
        "from hmmlearn import hmm\n",
        "from hmmlearn import hmm\n",
        "import seaborn as sns  \n",
        "import tensorflow as tf \n",
        "from keras.layers import Input, Dense, BatchNormalization \n",
        "from tensorflow import keras\n",
        "from tensorflow.keras import Input, Model\n",
        "from tensorflow.keras.layers import Layer,Dropout  \n",
        "from keras.layers.merge import concatenate  \n",
        "from keras.models import Sequential, Model  \n",
        "from tensorflow.keras.optimizers import Adam  \n",
        "from tensorflow.keras.utils import to_categorical  \n",
        "from sklearn.preprocessing import MinMaxScaler, LabelEncoder  \n",
        "%matplotlib inline"
      ]
    },
    {
      "cell_type": "code",
      "execution_count": 2,
      "metadata": {
        "colab": {
          "base_uri": "https://localhost:8080/"
        },
        "id": "Q75Splg0kRVH",
        "outputId": "4c3cb10f-bc5b-4f0b-a58e-5122dae25ae0"
      },
      "outputs": [
        {
          "output_type": "stream",
          "name": "stdout",
          "text": [
            "Mounted at /content/drive\n"
          ]
        }
      ],
      "source": [
        "from google.colab import drive\n",
        "drive.mount('/content/drive')"
      ]
    },
    {
      "cell_type": "markdown",
      "source": [
        "# Import Dataset using mount"
      ],
      "metadata": {
        "id": "Gid9H8JIASqu"
      }
    },
    {
      "cell_type": "code",
      "execution_count": 4,
      "metadata": {
        "colab": {
          "base_uri": "https://localhost:8080/"
        },
        "id": "SFB_jnW2dLil",
        "outputId": "93bac0f5-c43b-44aa-e57a-50027b0d493c"
      },
      "outputs": [
        {
          "output_type": "stream",
          "name": "stdout",
          "text": [
            "        ID  Age  Experience  Income  ZIP Code  Family  CCAvg  Education  \\\n",
            "0        1   25           1      49     91107       4    1.6          1   \n",
            "1        2   45          19      34     90089       3    1.5          1   \n",
            "2        3   39          15      11     94720       1    1.0          1   \n",
            "3        4   35           9     100     94112       1    2.7          2   \n",
            "4        5   35           8      45     91330       4    1.0          2   \n",
            "...    ...  ...         ...     ...       ...     ...    ...        ...   \n",
            "4995  4996   29           3      40     92697       1    1.9          3   \n",
            "4996  4997   30           4      15     92037       4    0.4          1   \n",
            "4997  4998   63          39      24     93023       2    0.3          3   \n",
            "4998  4999   65          40      49     90034       3    0.5          2   \n",
            "4999  5000   28           4      83     92612       3    0.8          1   \n",
            "\n",
            "      Mortgage  Personal Loan  Securities Account  CD Account  Online  \\\n",
            "0            0              0                   1           0       0   \n",
            "1            0              0                   1           0       0   \n",
            "2            0              0                   0           0       0   \n",
            "3            0              0                   0           0       0   \n",
            "4            0              0                   0           0       0   \n",
            "...        ...            ...                 ...         ...     ...   \n",
            "4995         0              0                   0           0       1   \n",
            "4996        85              0                   0           0       1   \n",
            "4997         0              0                   0           0       0   \n",
            "4998         0              0                   0           0       1   \n",
            "4999         0              0                   0           0       1   \n",
            "\n",
            "      CreditCard  \n",
            "0              0  \n",
            "1              0  \n",
            "2              0  \n",
            "3              0  \n",
            "4              1  \n",
            "...          ...  \n",
            "4995           0  \n",
            "4996           0  \n",
            "4997           0  \n",
            "4998           0  \n",
            "4999           1  \n",
            "\n",
            "[5000 rows x 14 columns]\n"
          ]
        }
      ],
      "source": [
        "Bank_Data3 = pd.read_csv('/content/drive/MyDrive/UniversalBank.csv',delimiter=',')\n",
        "print(Bank_Data3)"
      ]
    },
    {
      "cell_type": "markdown",
      "source": [
        "## **Shift Personal Loan to the last column**"
      ],
      "metadata": {
        "id": "WnVAYrTgTmVt"
      }
    },
    {
      "cell_type": "code",
      "execution_count": 5,
      "metadata": {
        "colab": {
          "base_uri": "https://localhost:8080/"
        },
        "id": "xeYKzwYAg2lX",
        "outputId": "a6e693b5-cd0f-485a-9b68-d51e49916cc1"
      },
      "outputs": [
        {
          "output_type": "stream",
          "name": "stdout",
          "text": [
            "        ID  Age  Experience  Income  ZIP Code  Family  CCAvg  Education  \\\n",
            "0        1   25           1      49     91107       4    1.6          1   \n",
            "1        2   45          19      34     90089       3    1.5          1   \n",
            "2        3   39          15      11     94720       1    1.0          1   \n",
            "3        4   35           9     100     94112       1    2.7          2   \n",
            "4        5   35           8      45     91330       4    1.0          2   \n",
            "...    ...  ...         ...     ...       ...     ...    ...        ...   \n",
            "4995  4996   29           3      40     92697       1    1.9          3   \n",
            "4996  4997   30           4      15     92037       4    0.4          1   \n",
            "4997  4998   63          39      24     93023       2    0.3          3   \n",
            "4998  4999   65          40      49     90034       3    0.5          2   \n",
            "4999  5000   28           4      83     92612       3    0.8          1   \n",
            "\n",
            "      Mortgage  Securities Account  CD Account  Online  CreditCard  \\\n",
            "0            0                   1           0       0           0   \n",
            "1            0                   1           0       0           0   \n",
            "2            0                   0           0       0           0   \n",
            "3            0                   0           0       0           0   \n",
            "4            0                   0           0       0           1   \n",
            "...        ...                 ...         ...     ...         ...   \n",
            "4995         0                   0           0       1           0   \n",
            "4996        85                   0           0       1           0   \n",
            "4997         0                   0           0       0           0   \n",
            "4998         0                   0           0       1           0   \n",
            "4999         0                   0           0       1           1   \n",
            "\n",
            "      Personal Loan  \n",
            "0                 0  \n",
            "1                 0  \n",
            "2                 0  \n",
            "3                 0  \n",
            "4                 0  \n",
            "...             ...  \n",
            "4995              0  \n",
            "4996              0  \n",
            "4997              0  \n",
            "4998              0  \n",
            "4999              0  \n",
            "\n",
            "[5000 rows x 14 columns]\n"
          ]
        }
      ],
      "source": [
        "shiftPos = Bank_Data3.pop(\"Personal Loan\")\n",
        "Bank_Data3.insert(13, \"Personal Loan\", shiftPos)\n",
        "print(Bank_Data3)"
      ]
    },
    {
      "cell_type": "markdown",
      "source": [
        "## Check if the dataset contain any null values"
      ],
      "metadata": {
        "id": "lNqUphykT9li"
      }
    },
    {
      "cell_type": "code",
      "execution_count": 6,
      "metadata": {
        "colab": {
          "base_uri": "https://localhost:8080/"
        },
        "id": "jSuu1caudvaB",
        "outputId": "ffcb0512-ab7e-4564-d660-e48281460fe2"
      },
      "outputs": [
        {
          "output_type": "stream",
          "name": "stdout",
          "text": [
            "<class 'pandas.core.frame.DataFrame'>\n",
            "RangeIndex: 5000 entries, 0 to 4999\n",
            "Data columns (total 14 columns):\n",
            " #   Column              Non-Null Count  Dtype  \n",
            "---  ------              --------------  -----  \n",
            " 0   ID                  5000 non-null   int64  \n",
            " 1   Age                 5000 non-null   int64  \n",
            " 2   Experience          5000 non-null   int64  \n",
            " 3   Income              5000 non-null   int64  \n",
            " 4   ZIP Code            5000 non-null   int64  \n",
            " 5   Family              5000 non-null   int64  \n",
            " 6   CCAvg               5000 non-null   float64\n",
            " 7   Education           5000 non-null   int64  \n",
            " 8   Mortgage            5000 non-null   int64  \n",
            " 9   Securities Account  5000 non-null   int64  \n",
            " 10  CD Account          5000 non-null   int64  \n",
            " 11  Online              5000 non-null   int64  \n",
            " 12  CreditCard          5000 non-null   int64  \n",
            " 13  Personal Loan       5000 non-null   int64  \n",
            "dtypes: float64(1), int64(13)\n",
            "memory usage: 547.0 KB\n"
          ]
        }
      ],
      "source": [
        "Bank_Data3.info()"
      ]
    },
    {
      "cell_type": "markdown",
      "source": [
        "## Remove ID,ZIP Code columns from the dataset"
      ],
      "metadata": {
        "id": "mJ0lwsj2T8LA"
      }
    },
    {
      "cell_type": "code",
      "execution_count": 7,
      "metadata": {
        "colab": {
          "base_uri": "https://localhost:8080/"
        },
        "id": "J_1rvb8hQNaM",
        "outputId": "63bd66db-c74d-4484-9a08-d35066d70948"
      },
      "outputs": [
        {
          "output_type": "stream",
          "name": "stdout",
          "text": [
            "      Age  Experience  Income  Family  CCAvg  Education  Mortgage  \\\n",
            "0      25           1      49       4    1.6          1         0   \n",
            "1      45          19      34       3    1.5          1         0   \n",
            "2      39          15      11       1    1.0          1         0   \n",
            "3      35           9     100       1    2.7          2         0   \n",
            "4      35           8      45       4    1.0          2         0   \n",
            "...   ...         ...     ...     ...    ...        ...       ...   \n",
            "4995   29           3      40       1    1.9          3         0   \n",
            "4996   30           4      15       4    0.4          1        85   \n",
            "4997   63          39      24       2    0.3          3         0   \n",
            "4998   65          40      49       3    0.5          2         0   \n",
            "4999   28           4      83       3    0.8          1         0   \n",
            "\n",
            "      Securities Account  CD Account  Online  CreditCard  Personal Loan  \n",
            "0                      1           0       0           0              0  \n",
            "1                      1           0       0           0              0  \n",
            "2                      0           0       0           0              0  \n",
            "3                      0           0       0           0              0  \n",
            "4                      0           0       0           1              0  \n",
            "...                  ...         ...     ...         ...            ...  \n",
            "4995                   0           0       1           0              0  \n",
            "4996                   0           0       1           0              0  \n",
            "4997                   0           0       0           0              0  \n",
            "4998                   0           0       1           0              0  \n",
            "4999                   0           0       1           1              0  \n",
            "\n",
            "[5000 rows x 12 columns]\n"
          ]
        }
      ],
      "source": [
        "BD=Bank_Data3.drop(['ID', 'ZIP Code'],axis=1)\n",
        "print(BD)"
      ]
    },
    {
      "cell_type": "markdown",
      "source": [
        "### To check null values"
      ],
      "metadata": {
        "id": "wZ0rahUXUW2U"
      }
    },
    {
      "cell_type": "code",
      "execution_count": 8,
      "metadata": {
        "colab": {
          "base_uri": "https://localhost:8080/"
        },
        "id": "xVAWbRlMk0L7",
        "outputId": "96bbc9d0-5c81-46c7-dca1-8119e8467ca4"
      },
      "outputs": [
        {
          "output_type": "stream",
          "name": "stdout",
          "text": [
            "Age                   0\n",
            "Experience            0\n",
            "Income                0\n",
            "Family                0\n",
            "CCAvg                 0\n",
            "Education             0\n",
            "Mortgage              0\n",
            "Securities Account    0\n",
            "CD Account            0\n",
            "Online                0\n",
            "CreditCard            0\n",
            "Personal Loan         0\n",
            "dtype: int64\n"
          ]
        }
      ],
      "source": [
        "print(BD.isnull().sum())\n",
        "#no null values"
      ]
    },
    {
      "cell_type": "markdown",
      "source": [
        "## Create Dummy variables"
      ],
      "metadata": {
        "id": "iZ69pJa0UlWT"
      }
    },
    {
      "cell_type": "code",
      "execution_count": 9,
      "metadata": {
        "colab": {
          "base_uri": "https://localhost:8080/",
          "height": 206
        },
        "id": "UUeqVfQklQd3",
        "outputId": "f425e60a-50b5-4104-de10-fe96c8db7cb0"
      },
      "outputs": [
        {
          "output_type": "display_data",
          "data": {
            "text/plain": [
              "   Age  Experience  Income  Family  CCAvg  Mortgage  Securities Account  \\\n",
              "0   25           1      49       4    1.6         0                   1   \n",
              "1   45          19      34       3    1.5         0                   1   \n",
              "2   39          15      11       1    1.0         0                   0   \n",
              "3   35           9     100       1    2.7         0                   0   \n",
              "4   35           8      45       4    1.0         0                   0   \n",
              "\n",
              "   CD Account  Online  CreditCard  Personal Loan  Education_1  Education_2  \\\n",
              "0           0       0           0              0            1            0   \n",
              "1           0       0           0              0            1            0   \n",
              "2           0       0           0              0            1            0   \n",
              "3           0       0           0              0            0            1   \n",
              "4           0       0           1              0            0            1   \n",
              "\n",
              "   Education_3  \n",
              "0            0  \n",
              "1            0  \n",
              "2            0  \n",
              "3            0  \n",
              "4            0  "
            ],
            "text/html": [
              "\n",
              "  <div id=\"df-9f7b8a1f-eca5-4928-926f-9ecc96c8290e\">\n",
              "    <div class=\"colab-df-container\">\n",
              "      <div>\n",
              "<style scoped>\n",
              "    .dataframe tbody tr th:only-of-type {\n",
              "        vertical-align: middle;\n",
              "    }\n",
              "\n",
              "    .dataframe tbody tr th {\n",
              "        vertical-align: top;\n",
              "    }\n",
              "\n",
              "    .dataframe thead th {\n",
              "        text-align: right;\n",
              "    }\n",
              "</style>\n",
              "<table border=\"1\" class=\"dataframe\">\n",
              "  <thead>\n",
              "    <tr style=\"text-align: right;\">\n",
              "      <th></th>\n",
              "      <th>Age</th>\n",
              "      <th>Experience</th>\n",
              "      <th>Income</th>\n",
              "      <th>Family</th>\n",
              "      <th>CCAvg</th>\n",
              "      <th>Mortgage</th>\n",
              "      <th>Securities Account</th>\n",
              "      <th>CD Account</th>\n",
              "      <th>Online</th>\n",
              "      <th>CreditCard</th>\n",
              "      <th>Personal Loan</th>\n",
              "      <th>Education_1</th>\n",
              "      <th>Education_2</th>\n",
              "      <th>Education_3</th>\n",
              "    </tr>\n",
              "  </thead>\n",
              "  <tbody>\n",
              "    <tr>\n",
              "      <th>0</th>\n",
              "      <td>25</td>\n",
              "      <td>1</td>\n",
              "      <td>49</td>\n",
              "      <td>4</td>\n",
              "      <td>1.6</td>\n",
              "      <td>0</td>\n",
              "      <td>1</td>\n",
              "      <td>0</td>\n",
              "      <td>0</td>\n",
              "      <td>0</td>\n",
              "      <td>0</td>\n",
              "      <td>1</td>\n",
              "      <td>0</td>\n",
              "      <td>0</td>\n",
              "    </tr>\n",
              "    <tr>\n",
              "      <th>1</th>\n",
              "      <td>45</td>\n",
              "      <td>19</td>\n",
              "      <td>34</td>\n",
              "      <td>3</td>\n",
              "      <td>1.5</td>\n",
              "      <td>0</td>\n",
              "      <td>1</td>\n",
              "      <td>0</td>\n",
              "      <td>0</td>\n",
              "      <td>0</td>\n",
              "      <td>0</td>\n",
              "      <td>1</td>\n",
              "      <td>0</td>\n",
              "      <td>0</td>\n",
              "    </tr>\n",
              "    <tr>\n",
              "      <th>2</th>\n",
              "      <td>39</td>\n",
              "      <td>15</td>\n",
              "      <td>11</td>\n",
              "      <td>1</td>\n",
              "      <td>1.0</td>\n",
              "      <td>0</td>\n",
              "      <td>0</td>\n",
              "      <td>0</td>\n",
              "      <td>0</td>\n",
              "      <td>0</td>\n",
              "      <td>0</td>\n",
              "      <td>1</td>\n",
              "      <td>0</td>\n",
              "      <td>0</td>\n",
              "    </tr>\n",
              "    <tr>\n",
              "      <th>3</th>\n",
              "      <td>35</td>\n",
              "      <td>9</td>\n",
              "      <td>100</td>\n",
              "      <td>1</td>\n",
              "      <td>2.7</td>\n",
              "      <td>0</td>\n",
              "      <td>0</td>\n",
              "      <td>0</td>\n",
              "      <td>0</td>\n",
              "      <td>0</td>\n",
              "      <td>0</td>\n",
              "      <td>0</td>\n",
              "      <td>1</td>\n",
              "      <td>0</td>\n",
              "    </tr>\n",
              "    <tr>\n",
              "      <th>4</th>\n",
              "      <td>35</td>\n",
              "      <td>8</td>\n",
              "      <td>45</td>\n",
              "      <td>4</td>\n",
              "      <td>1.0</td>\n",
              "      <td>0</td>\n",
              "      <td>0</td>\n",
              "      <td>0</td>\n",
              "      <td>0</td>\n",
              "      <td>1</td>\n",
              "      <td>0</td>\n",
              "      <td>0</td>\n",
              "      <td>1</td>\n",
              "      <td>0</td>\n",
              "    </tr>\n",
              "  </tbody>\n",
              "</table>\n",
              "</div>\n",
              "      <button class=\"colab-df-convert\" onclick=\"convertToInteractive('df-9f7b8a1f-eca5-4928-926f-9ecc96c8290e')\"\n",
              "              title=\"Convert this dataframe to an interactive table.\"\n",
              "              style=\"display:none;\">\n",
              "        \n",
              "  <svg xmlns=\"http://www.w3.org/2000/svg\" height=\"24px\"viewBox=\"0 0 24 24\"\n",
              "       width=\"24px\">\n",
              "    <path d=\"M0 0h24v24H0V0z\" fill=\"none\"/>\n",
              "    <path d=\"M18.56 5.44l.94 2.06.94-2.06 2.06-.94-2.06-.94-.94-2.06-.94 2.06-2.06.94zm-11 1L8.5 8.5l.94-2.06 2.06-.94-2.06-.94L8.5 2.5l-.94 2.06-2.06.94zm10 10l.94 2.06.94-2.06 2.06-.94-2.06-.94-.94-2.06-.94 2.06-2.06.94z\"/><path d=\"M17.41 7.96l-1.37-1.37c-.4-.4-.92-.59-1.43-.59-.52 0-1.04.2-1.43.59L10.3 9.45l-7.72 7.72c-.78.78-.78 2.05 0 2.83L4 21.41c.39.39.9.59 1.41.59.51 0 1.02-.2 1.41-.59l7.78-7.78 2.81-2.81c.8-.78.8-2.07 0-2.86zM5.41 20L4 18.59l7.72-7.72 1.47 1.35L5.41 20z\"/>\n",
              "  </svg>\n",
              "      </button>\n",
              "      \n",
              "  <style>\n",
              "    .colab-df-container {\n",
              "      display:flex;\n",
              "      flex-wrap:wrap;\n",
              "      gap: 12px;\n",
              "    }\n",
              "\n",
              "    .colab-df-convert {\n",
              "      background-color: #E8F0FE;\n",
              "      border: none;\n",
              "      border-radius: 50%;\n",
              "      cursor: pointer;\n",
              "      display: none;\n",
              "      fill: #1967D2;\n",
              "      height: 32px;\n",
              "      padding: 0 0 0 0;\n",
              "      width: 32px;\n",
              "    }\n",
              "\n",
              "    .colab-df-convert:hover {\n",
              "      background-color: #E2EBFA;\n",
              "      box-shadow: 0px 1px 2px rgba(60, 64, 67, 0.3), 0px 1px 3px 1px rgba(60, 64, 67, 0.15);\n",
              "      fill: #174EA6;\n",
              "    }\n",
              "\n",
              "    [theme=dark] .colab-df-convert {\n",
              "      background-color: #3B4455;\n",
              "      fill: #D2E3FC;\n",
              "    }\n",
              "\n",
              "    [theme=dark] .colab-df-convert:hover {\n",
              "      background-color: #434B5C;\n",
              "      box-shadow: 0px 1px 3px 1px rgba(0, 0, 0, 0.15);\n",
              "      filter: drop-shadow(0px 1px 2px rgba(0, 0, 0, 0.3));\n",
              "      fill: #FFFFFF;\n",
              "    }\n",
              "  </style>\n",
              "\n",
              "      <script>\n",
              "        const buttonEl =\n",
              "          document.querySelector('#df-9f7b8a1f-eca5-4928-926f-9ecc96c8290e button.colab-df-convert');\n",
              "        buttonEl.style.display =\n",
              "          google.colab.kernel.accessAllowed ? 'block' : 'none';\n",
              "\n",
              "        async function convertToInteractive(key) {\n",
              "          const element = document.querySelector('#df-9f7b8a1f-eca5-4928-926f-9ecc96c8290e');\n",
              "          const dataTable =\n",
              "            await google.colab.kernel.invokeFunction('convertToInteractive',\n",
              "                                                     [key], {});\n",
              "          if (!dataTable) return;\n",
              "\n",
              "          const docLinkHtml = 'Like what you see? Visit the ' +\n",
              "            '<a target=\"_blank\" href=https://colab.research.google.com/notebooks/data_table.ipynb>data table notebook</a>'\n",
              "            + ' to learn more about interactive tables.';\n",
              "          element.innerHTML = '';\n",
              "          dataTable['output_type'] = 'display_data';\n",
              "          await google.colab.output.renderOutput(dataTable, element);\n",
              "          const docLink = document.createElement('div');\n",
              "          docLink.innerHTML = docLinkHtml;\n",
              "          element.appendChild(docLink);\n",
              "        }\n",
              "      </script>\n",
              "    </div>\n",
              "  </div>\n",
              "  "
            ]
          },
          "metadata": {}
        }
      ],
      "source": [
        "# importing the libraries\n",
        "Bank_Data3  = BD.copy()\n",
        "Bank_Data3 = pd.get_dummies(Bank_Data3,columns = ['Education'])\n",
        "#convert categorical variables to dummy variables \n",
        "display(Bank_Data3.head())"
      ]
    },
    {
      "cell_type": "markdown",
      "source": [
        "# Shift Personal Loan column to the last position"
      ],
      "metadata": {
        "id": "OP4HELHWUvc-"
      }
    },
    {
      "cell_type": "code",
      "execution_count": 10,
      "metadata": {
        "colab": {
          "base_uri": "https://localhost:8080/"
        },
        "id": "rbRSLveyj-8L",
        "outputId": "ffdecb7e-c5fd-4a15-c250-6ebb2d01fd48"
      },
      "outputs": [
        {
          "output_type": "stream",
          "name": "stdout",
          "text": [
            "      Age  Experience  Income  Family  CCAvg  Mortgage  Securities Account  \\\n",
            "0      25           1      49       4    1.6         0                   1   \n",
            "1      45          19      34       3    1.5         0                   1   \n",
            "2      39          15      11       1    1.0         0                   0   \n",
            "3      35           9     100       1    2.7         0                   0   \n",
            "4      35           8      45       4    1.0         0                   0   \n",
            "...   ...         ...     ...     ...    ...       ...                 ...   \n",
            "4995   29           3      40       1    1.9         0                   0   \n",
            "4996   30           4      15       4    0.4        85                   0   \n",
            "4997   63          39      24       2    0.3         0                   0   \n",
            "4998   65          40      49       3    0.5         0                   0   \n",
            "4999   28           4      83       3    0.8         0                   0   \n",
            "\n",
            "      CD Account  Online  CreditCard  Education_1  Education_2  Education_3  \\\n",
            "0              0       0           0            1            0            0   \n",
            "1              0       0           0            1            0            0   \n",
            "2              0       0           0            1            0            0   \n",
            "3              0       0           0            0            1            0   \n",
            "4              0       0           1            0            1            0   \n",
            "...          ...     ...         ...          ...          ...          ...   \n",
            "4995           0       1           0            0            0            1   \n",
            "4996           0       1           0            1            0            0   \n",
            "4997           0       0           0            0            0            1   \n",
            "4998           0       1           0            0            1            0   \n",
            "4999           0       1           1            1            0            0   \n",
            "\n",
            "      Personal Loan  \n",
            "0                 0  \n",
            "1                 0  \n",
            "2                 0  \n",
            "3                 0  \n",
            "4                 0  \n",
            "...             ...  \n",
            "4995              0  \n",
            "4996              0  \n",
            "4997              0  \n",
            "4998              0  \n",
            "4999              0  \n",
            "\n",
            "[5000 rows x 14 columns]\n"
          ]
        }
      ],
      "source": [
        "shiftPos = Bank_Data3.pop(\"Personal Loan\")\n",
        "Bank_Data3.insert(13, \"Personal Loan\", shiftPos)\n",
        "print(Bank_Data3)"
      ]
    },
    {
      "cell_type": "markdown",
      "source": [
        "Correlation matrix to see how each of the data columns are closely related to the target variable"
      ],
      "metadata": {
        "id": "QTBct4e6WBbU"
      }
    },
    {
      "cell_type": "code",
      "source": [
        "correlation_matrix = Bank_Data3.corr()\n",
        "correlation_matrix[\"Personal Loan\"]"
      ],
      "metadata": {
        "colab": {
          "base_uri": "https://localhost:8080/"
        },
        "id": "UzMVq0dwHk_x",
        "outputId": "8c6277c2-9f2f-44f1-c902-e6690fd66aa0"
      },
      "execution_count": 11,
      "outputs": [
        {
          "output_type": "execute_result",
          "data": {
            "text/plain": [
              "Age                  -0.007726\n",
              "Experience           -0.007413\n",
              "Income                0.502462\n",
              "Family                0.061367\n",
              "CCAvg                 0.366889\n",
              "Mortgage              0.142095\n",
              "Securities Account    0.021954\n",
              "CD Account            0.316355\n",
              "Online                0.006278\n",
              "CreditCard            0.002802\n",
              "Education_1          -0.148894\n",
              "Education_2           0.071491\n",
              "Education_3           0.090212\n",
              "Personal Loan         1.000000\n",
              "Name: Personal Loan, dtype: float64"
            ]
          },
          "metadata": {},
          "execution_count": 11
        }
      ]
    },
    {
      "cell_type": "markdown",
      "source": [
        "Create a seperate dataset for the training data except the target column,and a seperate dataset only with target column"
      ],
      "metadata": {
        "id": "hSXc_WT5XURF"
      }
    },
    {
      "cell_type": "code",
      "source": [
        "X = Bank_Data3.drop(\"Personal Loan\", axis=1)\n",
        "X = X.values #independent var\n",
        "y = Bank_Data3[\"Personal Loan\"]\n",
        "y = y.values #dependent var"
      ],
      "metadata": {
        "id": "hhWy9G8-HlLh"
      },
      "execution_count": 12,
      "outputs": []
    },
    {
      "cell_type": "markdown",
      "source": [
        "# split the data into train(60%) and validation(40%)"
      ],
      "metadata": {
        "id": "QaNsiiIla2Ly"
      }
    },
    {
      "cell_type": "code",
      "source": [
        "from sklearn.model_selection import train_test_split\n",
        "X_train, X_test, y_train, y_test = train_test_split(\n",
        "X, y, test_size=0.4, random_state=101)"
      ],
      "metadata": {
        "id": "1T33PK8daaUe"
      },
      "execution_count": 13,
      "outputs": []
    },
    {
      "cell_type": "code",
      "source": [
        "from sklearn.neighbors import KNeighborsRegressor\n",
        "knn_model = KNeighborsRegressor(n_neighbors=5)"
      ],
      "metadata": {
        "id": "56CRnGsLag2r"
      },
      "execution_count": 14,
      "outputs": []
    },
    {
      "cell_type": "code",
      "source": [
        "new_data_point = np.array([40,10,84,2,2,0,0,0,1,1,0,1,0])"
      ],
      "metadata": {
        "id": "V9pZACTlYm0d"
      },
      "execution_count": 15,
      "outputs": []
    },
    {
      "cell_type": "code",
      "source": [
        "distances = np.linalg.norm(X - new_data_point, axis=1)"
      ],
      "metadata": {
        "id": "UeIY77TFYm6A"
      },
      "execution_count": 20,
      "outputs": []
    },
    {
      "cell_type": "code",
      "source": [
        "from sklearn import preprocessing\n",
        "import numpy as np\n",
        "x_array = np.array([40,10,84,2,2,0,0,0,1,1,0,1,0])\n",
        "normalized_arr = preprocessing.normalize([x_array])\n",
        "print(normalized_arr)"
      ],
      "metadata": {
        "colab": {
          "base_uri": "https://localhost:8080/"
        },
        "id": "ZIB2ENyzIWu0",
        "outputId": "42936fa8-72b0-4af3-f2d6-a7465b5d9abc"
      },
      "execution_count": 33,
      "outputs": [
        {
          "output_type": "stream",
          "name": "stdout",
          "text": [
            "[[0.42720319 0.1068008  0.8971267  0.02136016 0.02136016 0.\n",
            "  0.         0.         0.01068008 0.01068008 0.         0.01068008\n",
            "  0.        ]]\n"
          ]
        }
      ]
    },
    {
      "cell_type": "code",
      "source": [
        "k = 35\n",
        "nearest_neighbor_ids = distances.argsort()[:k]\n",
        "nearest_neighbor_ids"
      ],
      "metadata": {
        "colab": {
          "base_uri": "https://localhost:8080/"
        },
        "id": "pHUprX7KYm-K",
        "outputId": "4cf59a06-a6a7-4046-fda9-33e88b8ebf78"
      },
      "execution_count": 17,
      "outputs": [
        {
          "output_type": "execute_result",
          "data": {
            "text/plain": [
              "array([ 700, 2827, 4926, 3393, 2786, 4615, 2086, 4771, 2640, 2301, 4624,\n",
              "       4335,  123, 2306,  766, 1976, 4034,  487, 4296, 3756, 3272,  416,\n",
              "       1401, 3152, 4495, 4487,  542, 4588, 4202,  529, 1598, 1416, 3211,\n",
              "        738, 1526])"
            ]
          },
          "metadata": {},
          "execution_count": 17
        }
      ]
    },
    {
      "cell_type": "code",
      "source": [
        "nearest_neighbor_Personal_Loan = y[nearest_neighbor_ids]\n",
        "nearest_neighbor_Personal_Loan"
      ],
      "metadata": {
        "colab": {
          "base_uri": "https://localhost:8080/"
        },
        "id": "4dMFOB_rYnA5",
        "outputId": "2a091658-508c-41e5-cddd-65b92a55cd71"
      },
      "execution_count": 18,
      "outputs": [
        {
          "output_type": "execute_result",
          "data": {
            "text/plain": [
              "array([0, 0, 0, 0, 0, 0, 0, 0, 0, 0, 0, 0, 0, 0, 0, 0, 0, 0, 0, 0, 0, 0,\n",
              "       0, 0, 0, 0, 0, 0, 0, 0, 0, 0, 0, 0, 0])"
            ]
          },
          "metadata": {},
          "execution_count": 18
        }
      ]
    },
    {
      "cell_type": "code",
      "source": [
        "prediction = nearest_neighbor_Personal_Loan.mean()\n",
        "prediction\n",
        "#0 means the loan has been denied"
      ],
      "metadata": {
        "colab": {
          "base_uri": "https://localhost:8080/"
        },
        "id": "I2AdyPbfJdLm",
        "outputId": "975b1b67-45bd-4798-ffa2-88bd2a51d6b0"
      },
      "execution_count": 19,
      "outputs": [
        {
          "output_type": "execute_result",
          "data": {
            "text/plain": [
              "0.0"
            ]
          },
          "metadata": {},
          "execution_count": 19
        }
      ]
    },
    {
      "cell_type": "code",
      "source": [
        "knn_model.fit(X_train, y_train)"
      ],
      "metadata": {
        "colab": {
          "base_uri": "https://localhost:8080/"
        },
        "id": "cnwl85-0JdYL",
        "outputId": "f2c513d8-bda8-4a5b-b939-8cf29bf4438d"
      },
      "execution_count": 21,
      "outputs": [
        {
          "output_type": "execute_result",
          "data": {
            "text/plain": [
              "KNeighborsRegressor()"
            ]
          },
          "metadata": {},
          "execution_count": 21
        }
      ]
    },
    {
      "cell_type": "code",
      "source": [
        "# Train a classifier for different values of k\n",
        "from sklearn.neighbors import KNeighborsClassifier\n",
        "from sklearn import metrics\n",
        "from sklearn.metrics import accuracy_score\n",
        "results = []\n",
        "for k in range(1, 50):\n",
        "    knn = KNeighborsClassifier(n_neighbors=k).fit(X_train, y_train)\n",
        "    results.append({\n",
        "        'k': k,\n",
        "        'accuracy': accuracy_score(y_test, knn.predict(X_test))\n",
        "    })\n",
        "\n",
        "# Convert results to a pandas data frame\n",
        "results = pd.DataFrame(results)\n",
        "print(results)\n",
        "#worst value of k is 1"
      ],
      "metadata": {
        "colab": {
          "base_uri": "https://localhost:8080/"
        },
        "id": "rKBTTxCBciWe",
        "outputId": "bd7ea339-06b3-418a-cc03-eb60f2ec72c7"
      },
      "execution_count": 23,
      "outputs": [
        {
          "output_type": "stream",
          "name": "stdout",
          "text": [
            "     k  accuracy\n",
            "0    1    0.8980\n",
            "1    2    0.9085\n",
            "2    3    0.8955\n",
            "3    4    0.9015\n",
            "4    5    0.8985\n",
            "5    6    0.9070\n",
            "6    7    0.9000\n",
            "7    8    0.9015\n",
            "8    9    0.8985\n",
            "9   10    0.9075\n",
            "10  11    0.9035\n",
            "11  12    0.9105\n",
            "12  13    0.9100\n",
            "13  14    0.9095\n",
            "14  15    0.9080\n",
            "15  16    0.9085\n",
            "16  17    0.9095\n",
            "17  18    0.9075\n",
            "18  19    0.9090\n",
            "19  20    0.9060\n",
            "20  21    0.9050\n",
            "21  22    0.9050\n",
            "22  23    0.9085\n",
            "23  24    0.9090\n",
            "24  25    0.9125\n",
            "25  26    0.9120\n",
            "26  27    0.9120\n",
            "27  28    0.9080\n",
            "28  29    0.9095\n",
            "29  30    0.9085\n",
            "30  31    0.9095\n",
            "31  32    0.9070\n",
            "32  33    0.9060\n",
            "33  34    0.9070\n",
            "34  35    0.9080\n",
            "35  36    0.9070\n",
            "36  37    0.9070\n",
            "37  38    0.9055\n",
            "38  39    0.9055\n",
            "39  40    0.9055\n",
            "40  41    0.9070\n",
            "41  42    0.9045\n",
            "42  43    0.9065\n",
            "43  44    0.9080\n",
            "44  45    0.9095\n",
            "45  46    0.9060\n",
            "46  47    0.9065\n",
            "47  48    0.9070\n",
            "48  49    0.9085\n"
          ]
        }
      ]
    },
    {
      "cell_type": "code",
      "source": [
        "p = results.plot.scatter(x='k', y='accuracy', xlim=[0,30])"
      ],
      "metadata": {
        "colab": {
          "base_uri": "https://localhost:8080/",
          "height": 279
        },
        "id": "1igPOiySJwRg",
        "outputId": "22887953-fa44-48a1-8df9-25ac20a9acef"
      },
      "execution_count": 39,
      "outputs": [
        {
          "output_type": "display_data",
          "data": {
            "text/plain": [
              "<Figure size 432x288 with 1 Axes>"
            ],
            "image/png": "[encoded data removed]"
          },
          "metadata": {
            "needs_background": "light"
          }
        }
      ]
    },
    {
      "cell_type": "code",
      "source": [
        "from sklearn.neighbors import KNeighborsClassifier\n",
        "from sklearn import metrics\n",
        "#Train Model and Predict\n",
        "k = 43\n",
        "neigh = KNeighborsClassifier(n_neighbors = k).fit(X_train,y_train)\n",
        "Pred_y = neigh.predict(X_test)\n",
        "print(\"Accuracy of model at K=43 is\",metrics.accuracy_score(y_test, Pred_y))"
      ],
      "metadata": {
        "colab": {
          "base_uri": "https://localhost:8080/"
        },
        "id": "-1MGnlxiR9Ev",
        "outputId": "67ce4c85-5370-4943-a250-99e6dcea71f9"
      },
      "execution_count": 30,
      "outputs": [
        {
          "output_type": "stream",
          "name": "stdout",
          "text": [
            "Accuracy of model at K=43 is 0.9065\n"
          ]
        }
      ]
    },
    {
      "cell_type": "markdown",
      "source": [
        "## Confusion matrix"
      ],
      "metadata": {
        "id": "NDJhmvWqd9ys"
      }
    },
    {
      "cell_type": "code",
      "source": [
        "from sklearn.metrics import confusion_matrix\n",
        "clf=KNeighborsClassifier(n_neighbors=35)\n",
        "clf.fit(X_train,y_train)\n",
        "predicted_value=clf.predict(X_test)\n",
        "con_mat=confusion_matrix(y_test,predicted_value)\n",
        "sns.heatmap(con_mat,annot=True,annot_kws= \n",
        "                           {\"size\":20},cbar=False,fmt='g',cmap=\"viridis\")\n",
        "plt.show()"
      ],
      "metadata": {
        "colab": {
          "base_uri": "https://localhost:8080/",
          "height": 265
        },
        "id": "0Jq3xM0gTDTU",
        "outputId": "c3cf0550-959f-41e8-e2c6-25f7a03a965e"
      },
      "execution_count": 31,
      "outputs": [
        {
          "output_type": "display_data",
          "data": {
            "text/plain": [
              "<Figure size 432x288 with 1 Axes>"
            ],
            "image/png": "[encoded data removed]"
          },
          "metadata": {
            "needs_background": "light"
          }
        }
      ]
    },
    {
      "cell_type": "markdown",
      "source": [
        "## Splitting the data in training(50%), validation(30%),and test(20%) sets"
      ],
      "metadata": {
        "id": "ekzTzywaeEpn"
      }
    },
    {
      "cell_type": "code",
      "source": [
        "# Splitting the data in training(50%), validation(30%),and test(20%) sets\n",
        "train_df, temp_df = train_test_split(Bank_Data3, test_size=0.5, random_state=1)\n",
        "valid_df, test_df = train_test_split(temp_df, test_size=0.4, random_state=1)\n",
        "print('Training dataset', train_df.shape)\n",
        "print('Validation dataset', valid_df.shape)\n",
        "print('Test dataset', test_df.shape)"
      ],
      "metadata": {
        "colab": {
          "base_uri": "https://localhost:8080/"
        },
        "id": "c1hOEFTfFWuP",
        "outputId": "7907fb5e-439d-4cfd-db54-68814f1a845f"
      },
      "execution_count": 32,
      "outputs": [
        {
          "output_type": "stream",
          "name": "stdout",
          "text": [
            "Training dataset (2500, 14)\n",
            "Validation dataset (1500, 14)\n",
            "Test dataset (1000, 14)\n"
          ]
        }
      ]
    },
    {
      "cell_type": "markdown",
      "source": [
        "## normalize data"
      ],
      "metadata": {
        "id": "-J1fTLc8InHJ"
      }
    },
    {
      "cell_type": "code",
      "source": [
        "# Outcomes feature scaling and preprocessing\n",
        "from sklearn import preprocessing\n",
        "outcome = 'Personal Loan'\n",
        "predictors = list(Bank_Data3.columns)\n",
        "predictors.remove(outcome)\n",
        "Scaler = preprocessing.StandardScaler()\n",
        "Scaler.fit(train_df[predictors])\n",
        "train_x = Scaler.transform(train_df[predictors])\n",
        "train_y = train_df[outcome]\n",
        "valid_x = Scaler.transform(valid_df[predictors])\n",
        "valid_y = valid_df[outcome]\n",
        "test_x = Scaler.transform(test_df[predictors])\n",
        "test_y = test_df[outcome]"
      ],
      "metadata": {
        "id": "bONXzo1kEyyY"
      },
      "execution_count": 34,
      "outputs": []
    },
    {
      "cell_type": "code",
      "source": [
        " # fitting the data for the best K value (35)\n",
        "classifier = KNeighborsClassifier(n_neighbors=35)\n",
        "classifier.fit(train_x, train_y)"
      ],
      "metadata": {
        "colab": {
          "base_uri": "https://localhost:8080/"
        },
        "id": "pwm_Kw71RIiR",
        "outputId": "d0fd34cc-0667-486e-c5d8-af81fd8aa2fe"
      },
      "execution_count": 35,
      "outputs": [
        {
          "output_type": "execute_result",
          "data": {
            "text/plain": [
              "KNeighborsClassifier(n_neighbors=35)"
            ]
          },
          "metadata": {},
          "execution_count": 35
        }
      ]
    },
    {
      "cell_type": "code",
      "source": [
        "#Confusion Matrix for training data\n",
        "knnPredOpt = classifier.predict(train_x)\n",
        "print(confusion_matrix(train_y, knnPredOpt))\n",
        "print('Accuracy:', accuracy_score(train_y, knnPredOpt))"
      ],
      "metadata": {
        "colab": {
          "base_uri": "https://localhost:8080/"
        },
        "id": "CnHDaxGCSvEz",
        "outputId": "835fcae7-c834-4c72-8a30-1d170068760b"
      },
      "execution_count": 36,
      "outputs": [
        {
          "output_type": "stream",
          "name": "stdout",
          "text": [
            "[[2257    2]\n",
            " [ 141  100]]\n",
            "Accuracy: 0.9428\n"
          ]
        }
      ]
    },
    {
      "cell_type": "code",
      "source": [
        "#Confusion Matrix for Validation Data\n",
        "knnPredict = classifier.predict(valid_x)\n",
        "print(confusion_matrix(valid_y, knnPredict))\n",
        "print('Accuracy:', accuracy_score(valid_y, knnPredict))"
      ],
      "metadata": {
        "colab": {
          "base_uri": "https://localhost:8080/"
        },
        "id": "6Wy8RzX1S1ge",
        "outputId": "a598b68d-fc78-4f54-996d-ee9e351a01e0"
      },
      "execution_count": 37,
      "outputs": [
        {
          "output_type": "stream",
          "name": "stdout",
          "text": [
            "[[1346    3]\n",
            " [ 105   46]]\n",
            "Accuracy: 0.928\n"
          ]
        }
      ]
    },
    {
      "cell_type": "code",
      "source": [
        "#Confusion Matrix for test Dataset\n",
        "knnPredict = classifier.predict(test_x)\n",
        "print(confusion_matrix(test_y, knnPredict))\n",
        "print('Accuracy:', accuracy_score(test_y, knnPredict))"
      ],
      "metadata": {
        "colab": {
          "base_uri": "https://localhost:8080/"
        },
        "id": "ALR2vUKfS6fm",
        "outputId": "7ab89bbf-2095-4959-aa35-061fc1a8039c"
      },
      "execution_count": 38,
      "outputs": [
        {
          "output_type": "stream",
          "name": "stdout",
          "text": [
            "[[908   4]\n",
            " [ 57  31]]\n",
            "Accuracy: 0.939\n"
          ]
        }
      ]
    },
    {
      "cell_type": "markdown",
      "source": [
        "Change in accuracy can be observed in train,test and validation split.\n",
        "While comparing the test set with the validation set we can observe that test set results in better accuracy when compared to validation set\n",
        "While comparing the test set with the train set we can observe that the training set resulted with a better accuracy when compared to the test set.\n"
      ],
      "metadata": {
        "id": "CIIvEYQZefm0"
      }
    },
    {
      "cell_type": "code",
      "source": [],
      "metadata": {
        "id": "0QYvfgd9_z8H"
      },
      "execution_count": null,
      "outputs": []
    }
  ],
  "metadata": {
    "colab": {
      "collapsed_sections": [],
      "provenance": []
    },
    "kernelspec": {
      "display_name": "Python 3",
      "name": "python3"
    },
    "language_info": {
      "name": "python"
    }
  },
  "nbformat": 4,
  "nbformat_minor": 0
}