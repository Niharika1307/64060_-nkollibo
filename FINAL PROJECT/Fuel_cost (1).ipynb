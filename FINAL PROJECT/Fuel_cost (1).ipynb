{
  "nbformat": 4,
  "nbformat_minor": 0,
  "metadata": {
    "colab": {
      "provenance": []
    },
    "kernelspec": {
      "name": "python3",
      "display_name": "Python 3"
    },
    "language_info": {
      "name": "python"
    }
  },
  "cells": [
    {
      "cell_type": "code",
      "execution_count": 148,
      "metadata": {
        "id": "IKJbsBsqZQMv"
      },
      "outputs": [],
      "source": [
        "import pandas as pd\n",
        "import numpy as np\n",
        "import random\n",
        "import seaborn as sns\n",
        "import matplotlib.pyplot as plt"
      ]
    },
    {
      "cell_type": "code",
      "source": [
        "from google.colab import drive\n",
        "drive.mount('/content/drive')"
      ],
      "metadata": {
        "id": "OO9lpkjtZrNy",
        "colab": {
          "base_uri": "https://localhost:8080/"
        },
        "outputId": "13ebf118-a9e8-4805-8406-49a244a28a41"
      },
      "execution_count": 149,
      "outputs": [
        {
          "output_type": "stream",
          "name": "stdout",
          "text": [
            "Drive already mounted at /content/drive; to attempt to forcibly remount, call drive.mount(\"/content/drive\", force_remount=True).\n"
          ]
        }
      ]
    },
    {
      "cell_type": "code",
      "source": [
        "original_fuel=pd.read_csv('/content/drive/MyDrive/fuel_cost.csv',delimiter=',')\n",
        "print(original_fuel.head())"
      ],
      "metadata": {
        "colab": {
          "base_uri": "https://localhost:8080/"
        },
        "id": "JDlIU8hIZ6t-",
        "outputId": "627fb9a7-676d-4249-f950-0366aeea8404"
      },
      "execution_count": 150,
      "outputs": [
        {
          "output_type": "stream",
          "name": "stderr",
          "text": [
            "/usr/local/lib/python3.8/dist-packages/IPython/core/interactiveshell.py:3326: DtypeWarning: Columns (25) have mixed types.Specify dtype option on import or set low_memory=False.\n",
            "  exec(code_obj, self.user_global_ns, self.user_ns)\n"
          ]
        },
        {
          "output_type": "stream",
          "name": "stdout",
          "text": [
            "   rowid  plant_id_eia plant_id_eia_label report_date contract_type_code  \\\n",
            "0      1             3              Barry  01-01-2008                  C   \n",
            "1      2             3              Barry  01-01-2008                  C   \n",
            "2      3             3              Barry  01-01-2008                  C   \n",
            "3      4             7            Gadsden  01-01-2008                  C   \n",
            "4      5             7            Gadsden  01-01-2008                  S   \n",
            "\n",
            "  contract_type_code_label contract_expiration_date energy_source_code  \\\n",
            "0                        C               01-04-2008                BIT   \n",
            "1                        C               01-04-2008                BIT   \n",
            "2                        C                      NaN                 NG   \n",
            "3                        C               01-12-2015                BIT   \n",
            "4                        S               01-11-2008                BIT   \n",
            "\n",
            "  energy_source_code_label fuel_type_code_pudl  ...  \\\n",
            "0                      BIT                coal  ...   \n",
            "1                      BIT                coal  ...   \n",
            "2                       NG                 gas  ...   \n",
            "3                      BIT                coal  ...   \n",
            "4                      BIT                coal  ...   \n",
            "\n",
            "  primary_transportation_mode_code  primary_transportation_mode_code_label  \\\n",
            "0                               RV                                      RV   \n",
            "1                               RV                                      RV   \n",
            "2                               PL                                      PL   \n",
            "3                               TR                                      TR   \n",
            "4                               TR                                      TR   \n",
            "\n",
            "   secondary_transportation_mode_code  \\\n",
            "0                                 NaN   \n",
            "1                                 NaN   \n",
            "2                                 NaN   \n",
            "3                                 NaN   \n",
            "4                                 NaN   \n",
            "\n",
            "  secondary_transportation_mode_code_label  natural_gas_transport_code  \\\n",
            "0                                      NaN                        firm   \n",
            "1                                      NaN                        firm   \n",
            "2                                      NaN                        firm   \n",
            "3                                      NaN                        firm   \n",
            "4                                      NaN                        firm   \n",
            "\n",
            "   natural_gas_delivery_contract_type_code  moisture_content_pct  \\\n",
            "0                                      NaN                   NaN   \n",
            "1                                      NaN                   NaN   \n",
            "2                                      NaN                   NaN   \n",
            "3                                      NaN                   NaN   \n",
            "4                                      NaN                   NaN   \n",
            "\n",
            "   chlorine_content_ppm  data_maturity  data_maturity_label  \n",
            "0                   NaN          final                final  \n",
            "1                   NaN          final                final  \n",
            "2                   NaN          final                final  \n",
            "3                   NaN          final                final  \n",
            "4                   NaN          final                final  \n",
            "\n",
            "[5 rows x 30 columns]\n"
          ]
        }
      ]
    },
    {
      "cell_type": "markdown",
      "source": [
        "#REMOVED COLUMNS WHICH ARE DUPLICATE AND NOT NEEDED."
      ],
      "metadata": {
        "id": "FmIBxi_5cGlC"
      }
    },
    {
      "cell_type": "code",
      "source": [
        "columns_needed = original_fuel[['plant_id_eia','fuel_received_units','fuel_mmbtu_per_unit','sulfur_content_pct','ash_content_pct','mercury_content_ppm','fuel_group_code','fuel_cost_per_mmbtu']]\n",
        "print(columns_needed)"
      ],
      "metadata": {
        "colab": {
          "base_uri": "https://localhost:8080/"
        },
        "id": "0y9a_dD3lV6T",
        "outputId": "0b064810-d254-40f0-a6b6-e6dcd4c60826"
      },
      "execution_count": 151,
      "outputs": [
        {
          "output_type": "stream",
          "name": "stdout",
          "text": [
            "        plant_id_eia  fuel_received_units  fuel_mmbtu_per_unit  \\\n",
            "0                  3               259412               23.100   \n",
            "1                  3                52241               22.800   \n",
            "2                  3              2783619                1.039   \n",
            "3                  7                25397               24.610   \n",
            "4                  7                  764               24.446   \n",
            "...              ...                  ...                  ...   \n",
            "608560         62115              1423630                1.033   \n",
            "608561         62565              2769452                1.041   \n",
            "608562         63335                45343                1.020   \n",
            "608563         63688                82501                1.020   \n",
            "608564         64020                12255                1.053   \n",
            "\n",
            "        sulfur_content_pct  ash_content_pct  mercury_content_ppm  \\\n",
            "0                     0.49              5.4                  NaN   \n",
            "1                     0.48              5.7                  NaN   \n",
            "2                     0.00              0.0                  NaN   \n",
            "3                     1.69             14.7                  NaN   \n",
            "4                     0.84             15.5                  NaN   \n",
            "...                    ...              ...                  ...   \n",
            "608560                0.00              0.0                  0.0   \n",
            "608561                0.00              0.0                  0.0   \n",
            "608562                0.00              0.0                  0.0   \n",
            "608563                0.00              0.0                  0.0   \n",
            "608564                0.00              0.0                  0.0   \n",
            "\n",
            "       fuel_group_code  fuel_cost_per_mmbtu  \n",
            "0                 coal                2.135  \n",
            "1                 coal                2.115  \n",
            "2          natural_gas                8.631  \n",
            "3                 coal                2.776  \n",
            "4                 coal                3.381  \n",
            "...                ...                  ...  \n",
            "608560     natural_gas                  NaN  \n",
            "608561     natural_gas                  NaN  \n",
            "608562     natural_gas                  NaN  \n",
            "608563     natural_gas                  NaN  \n",
            "608564     natural_gas                4.386  \n",
            "\n",
            "[608565 rows x 8 columns]\n"
          ]
        }
      ]
    },
    {
      "cell_type": "markdown",
      "source": [
        "These are the columns needed for analyzing the data."
      ],
      "metadata": {
        "id": "bxG7iTJXCrdF"
      }
    },
    {
      "cell_type": "code",
      "source": [
        "columns_needed.isnull().sum()"
      ],
      "metadata": {
        "colab": {
          "base_uri": "https://localhost:8080/"
        },
        "id": "g5FemqHzl7Po",
        "outputId": "cf483330-f72f-4c04-a7af-74cad823817d"
      },
      "execution_count": 152,
      "outputs": [
        {
          "output_type": "execute_result",
          "data": {
            "text/plain": [
              "plant_id_eia                0\n",
              "fuel_received_units         0\n",
              "fuel_mmbtu_per_unit         0\n",
              "sulfur_content_pct          0\n",
              "ash_content_pct             0\n",
              "mercury_content_ppm    289482\n",
              "fuel_group_code             1\n",
              "fuel_cost_per_mmbtu    200240\n",
              "dtype: int64"
            ]
          },
          "metadata": {},
          "execution_count": 152
        }
      ]
    },
    {
      "cell_type": "code",
      "source": [
        "columns_needed.info()"
      ],
      "metadata": {
        "colab": {
          "base_uri": "https://localhost:8080/"
        },
        "id": "32UpSZhybRCF",
        "outputId": "28e484ff-5635-47da-828e-b50f8b7c4fbc"
      },
      "execution_count": 153,
      "outputs": [
        {
          "output_type": "stream",
          "name": "stdout",
          "text": [
            "<class 'pandas.core.frame.DataFrame'>\n",
            "RangeIndex: 608565 entries, 0 to 608564\n",
            "Data columns (total 8 columns):\n",
            " #   Column               Non-Null Count   Dtype  \n",
            "---  ------               --------------   -----  \n",
            " 0   plant_id_eia         608565 non-null  int64  \n",
            " 1   fuel_received_units  608565 non-null  int64  \n",
            " 2   fuel_mmbtu_per_unit  608565 non-null  float64\n",
            " 3   sulfur_content_pct   608565 non-null  float64\n",
            " 4   ash_content_pct      608565 non-null  float64\n",
            " 5   mercury_content_ppm  319083 non-null  float64\n",
            " 6   fuel_group_code      608564 non-null  object \n",
            " 7   fuel_cost_per_mmbtu  408325 non-null  float64\n",
            "dtypes: float64(5), int64(2), object(1)\n",
            "memory usage: 37.1+ MB\n"
          ]
        }
      ]
    },
    {
      "cell_type": "markdown",
      "source": [
        "converting categorical data to numerical dad"
      ],
      "metadata": {
        "id": "DBaYMBcTC6fb"
      }
    },
    {
      "cell_type": "code",
      "source": [
        "columns_needed[\"fuel_group_code\"] =columns_needed[\"fuel_group_code\"].astype('category')\n",
        "columns_needed[\"fuel_group_code\"] = columns_needed[\"fuel_group_code\"].cat.codes"
      ],
      "metadata": {
        "id": "pOvT4PoGmurm"
      },
      "execution_count": null,
      "outputs": []
    },
    {
      "cell_type": "markdown",
      "source": [
        "imputing the missing values with median"
      ],
      "metadata": {
        "id": "Uw2DXcUQC_De"
      }
    },
    {
      "cell_type": "code",
      "source": [
        "columns_needed['mercury_content_ppm'] = columns_needed['mercury_content_ppm'].fillna(columns_needed['mercury_content_ppm'].median())\n",
        "columns_needed['fuel_group_code'] = columns_needed['fuel_group_code'].fillna(columns_needed['fuel_group_code'].median())\n",
        "columns_needed['fuel_cost_per_mmbtu'] = columns_needed['fuel_cost_per_mmbtu'].fillna(columns_needed['fuel_cost_per_mmbtu'].median())"
      ],
      "metadata": {
        "id": "khzObhjamFZ6"
      },
      "execution_count": null,
      "outputs": []
    },
    {
      "cell_type": "code",
      "source": [
        "columns_needed.isnull().sum()"
      ],
      "metadata": {
        "colab": {
          "base_uri": "https://localhost:8080/"
        },
        "id": "yFJ2SQ4smFeh",
        "outputId": "db977ba6-c274-48e0-ddb2-ef52e2cb1731"
      },
      "execution_count": 156,
      "outputs": [
        {
          "output_type": "execute_result",
          "data": {
            "text/plain": [
              "plant_id_eia           0\n",
              "fuel_received_units    0\n",
              "fuel_mmbtu_per_unit    0\n",
              "sulfur_content_pct     0\n",
              "ash_content_pct        0\n",
              "mercury_content_ppm    0\n",
              "fuel_group_code        0\n",
              "fuel_cost_per_mmbtu    0\n",
              "dtype: int64"
            ]
          },
          "metadata": {},
          "execution_count": 156
        }
      ]
    },
    {
      "cell_type": "code",
      "source": [
        "plt.figure(figsize=(16, 6))\n",
        "# Store heatmap object in a variable to easily access it when you want to include more features (such as title).\n",
        "# Set the range of values to be displayed on the colormap from -1 to 1, and set the annotation to True to display the correlation values on the heatmap.\n",
        "heatmap = sns.heatmap(columns_needed.corr(), vmin=-1, vmax=1, annot=True)\n",
        "# Give a title to the heatmap. Pad defines the distance of the title from the top of the heatmap.\n",
        "heatmap.set_title('Correlation Heatmap', fontdict={'fontsize':12}, pad=12);"
      ],
      "metadata": {
        "colab": {
          "base_uri": "https://localhost:8080/",
          "height": 484
        },
        "id": "dY2Odans2TU-",
        "outputId": "9df40be5-286e-44a0-f268-01709ea187ed"
      },
      "execution_count": 157,
      "outputs": [
        {
          "output_type": "display_data",
          "data": {
            "text/plain": [
              "<Figure size 1152x432 with 2 Axes>"
            ],
            "image/png": "[encoded data removed]"
          },
          "metadata": {}
        }
      ]
    },
    {
      "cell_type": "markdown",
      "source": [
        "the correlation heatmap to understand the relation between each of the variables."
      ],
      "metadata": {
        "id": "MScFlC64DGbA"
      }
    },
    {
      "cell_type": "code",
      "source": [
        "columns_needed1 = columns_needed.sample(12000)"
      ],
      "metadata": {
        "id": "SO40Sw7uyLbz"
      },
      "execution_count": 158,
      "outputs": []
    },
    {
      "cell_type": "markdown",
      "source": [
        "consider only 2% of the data"
      ],
      "metadata": {
        "id": "rCKuWupODOXv"
      }
    },
    {
      "cell_type": "code",
      "source": [
        "columns_needed1.replace([np.inf, -np.inf], np.nan, inplace=True)"
      ],
      "metadata": {
        "id": "RUxZWOgQ82mR"
      },
      "execution_count": 159,
      "outputs": []
    },
    {
      "cell_type": "code",
      "source": [
        "columns_needed1.fillna(999, inplace=True)"
      ],
      "metadata": {
        "id": "VWXIPZOy82pr"
      },
      "execution_count": 160,
      "outputs": []
    },
    {
      "cell_type": "code",
      "source": [
        "from sklearn.model_selection import train_test_split\n",
        "train_df, test_df = train_test_split(columns_needed1, train_size = 0.8334, random_state=1224)"
      ],
      "metadata": {
        "id": "DAuCt0TAft9L"
      },
      "execution_count": 161,
      "outputs": []
    },
    {
      "cell_type": "code",
      "source": [
        "print(len(train_df))"
      ],
      "metadata": {
        "colab": {
          "base_uri": "https://localhost:8080/"
        },
        "id": "unQWYe9ngAwS",
        "outputId": "9d3e5875-f9dc-4c9d-d632-641340cd1618"
      },
      "execution_count": 162,
      "outputs": [
        {
          "output_type": "stream",
          "name": "stdout",
          "text": [
            "10000\n"
          ]
        }
      ]
    },
    {
      "cell_type": "code",
      "source": [
        "print(len(test_df))"
      ],
      "metadata": {
        "colab": {
          "base_uri": "https://localhost:8080/"
        },
        "id": "BmC2hzQHgAz0",
        "outputId": "adfa1ccd-4355-49c4-a72c-110456ae1c0c"
      },
      "execution_count": 163,
      "outputs": [
        {
          "output_type": "stream",
          "name": "stdout",
          "text": [
            "2000\n"
          ]
        }
      ]
    },
    {
      "cell_type": "markdown",
      "source": [
        "scaling the train data"
      ],
      "metadata": {
        "id": "othWNgMGDVH7"
      }
    },
    {
      "cell_type": "code",
      "source": [
        "from sklearn.preprocessing import StandardScaler\n",
        "std_scaler = StandardScaler()\n",
        " \n",
        "df_scaled = std_scaler.fit_transform(train_df.to_numpy())\n",
        "df_scaled = pd.DataFrame(df_scaled, columns=['plant_id_eia','fuel_received_units','fuel_mmbtu_per_unit','sulfur_content_pct','ash_content_pct','mercury_content_ppm','fuel_cost_per_mmbtu','fuel_group_code'])\n",
        "print(\"Scaled Dataset Using StandardScaler\")\n",
        "df_scaled.head()"
      ],
      "metadata": {
        "colab": {
          "base_uri": "https://localhost:8080/",
          "height": 224
        },
        "id": "OSMmJG81iOH1",
        "outputId": "7cd6d7bc-2a68-4267-864d-a2a5b15891b3"
      },
      "execution_count": 164,
      "outputs": [
        {
          "output_type": "stream",
          "name": "stdout",
          "text": [
            "Scaled Dataset Using StandardScaler\n"
          ]
        },
        {
          "output_type": "execute_result",
          "data": {
            "text/plain": [
              "   plant_id_eia  fuel_received_units  fuel_mmbtu_per_unit  sulfur_content_pct  \\\n",
              "0     -0.715546            -0.171767             0.906193           -0.115960   \n",
              "1     -0.477459            -0.181887            -0.791768           -0.506274   \n",
              "2      1.387874            -0.321071            -0.788082           -0.506274   \n",
              "3      1.612330            -0.255179            -0.788082           -0.506274   \n",
              "4      1.607479            -0.324541            -0.788798           -0.506274   \n",
              "\n",
              "   ash_content_pct  mercury_content_ppm  fuel_cost_per_mmbtu  fuel_group_code  \n",
              "0         0.265884            -0.121929            -0.981868        -0.042738  \n",
              "1        -0.541082            -0.121929             0.178458         0.012885  \n",
              "2        -0.541082            -0.121929             0.178458        -0.030377  \n",
              "3        -0.541082            -0.121929             0.178458        -0.030377  \n",
              "4        -0.541082            -0.121929             0.178458        -0.030377  "
            ],
            "text/html": [
              "\n",
              "  <div id=\"df-320ad20b-23ec-4ec2-9312-6d2002681114\">\n",
              "    <div class=\"colab-df-container\">\n",
              "      <div>\n",
              "<style scoped>\n",
              "    .dataframe tbody tr th:only-of-type {\n",
              "        vertical-align: middle;\n",
              "    }\n",
              "\n",
              "    .dataframe tbody tr th {\n",
              "        vertical-align: top;\n",
              "    }\n",
              "\n",
              "    .dataframe thead th {\n",
              "        text-align: right;\n",
              "    }\n",
              "</style>\n",
              "<table border=\"1\" class=\"dataframe\">\n",
              "  <thead>\n",
              "    <tr style=\"text-align: right;\">\n",
              "      <th></th>\n",
              "      <th>plant_id_eia</th>\n",
              "      <th>fuel_received_units</th>\n",
              "      <th>fuel_mmbtu_per_unit</th>\n",
              "      <th>sulfur_content_pct</th>\n",
              "      <th>ash_content_pct</th>\n",
              "      <th>mercury_content_ppm</th>\n",
              "      <th>fuel_cost_per_mmbtu</th>\n",
              "      <th>fuel_group_code</th>\n",
              "    </tr>\n",
              "  </thead>\n",
              "  <tbody>\n",
              "    <tr>\n",
              "      <th>0</th>\n",
              "      <td>-0.715546</td>\n",
              "      <td>-0.171767</td>\n",
              "      <td>0.906193</td>\n",
              "      <td>-0.115960</td>\n",
              "      <td>0.265884</td>\n",
              "      <td>-0.121929</td>\n",
              "      <td>-0.981868</td>\n",
              "      <td>-0.042738</td>\n",
              "    </tr>\n",
              "    <tr>\n",
              "      <th>1</th>\n",
              "      <td>-0.477459</td>\n",
              "      <td>-0.181887</td>\n",
              "      <td>-0.791768</td>\n",
              "      <td>-0.506274</td>\n",
              "      <td>-0.541082</td>\n",
              "      <td>-0.121929</td>\n",
              "      <td>0.178458</td>\n",
              "      <td>0.012885</td>\n",
              "    </tr>\n",
              "    <tr>\n",
              "      <th>2</th>\n",
              "      <td>1.387874</td>\n",
              "      <td>-0.321071</td>\n",
              "      <td>-0.788082</td>\n",
              "      <td>-0.506274</td>\n",
              "      <td>-0.541082</td>\n",
              "      <td>-0.121929</td>\n",
              "      <td>0.178458</td>\n",
              "      <td>-0.030377</td>\n",
              "    </tr>\n",
              "    <tr>\n",
              "      <th>3</th>\n",
              "      <td>1.612330</td>\n",
              "      <td>-0.255179</td>\n",
              "      <td>-0.788082</td>\n",
              "      <td>-0.506274</td>\n",
              "      <td>-0.541082</td>\n",
              "      <td>-0.121929</td>\n",
              "      <td>0.178458</td>\n",
              "      <td>-0.030377</td>\n",
              "    </tr>\n",
              "    <tr>\n",
              "      <th>4</th>\n",
              "      <td>1.607479</td>\n",
              "      <td>-0.324541</td>\n",
              "      <td>-0.788798</td>\n",
              "      <td>-0.506274</td>\n",
              "      <td>-0.541082</td>\n",
              "      <td>-0.121929</td>\n",
              "      <td>0.178458</td>\n",
              "      <td>-0.030377</td>\n",
              "    </tr>\n",
              "  </tbody>\n",
              "</table>\n",
              "</div>\n",
              "      <button class=\"colab-df-convert\" onclick=\"convertToInteractive('df-320ad20b-23ec-4ec2-9312-6d2002681114')\"\n",
              "              title=\"Convert this dataframe to an interactive table.\"\n",
              "              style=\"display:none;\">\n",
              "        \n",
              "  <svg xmlns=\"http://www.w3.org/2000/svg\" height=\"24px\"viewBox=\"0 0 24 24\"\n",
              "       width=\"24px\">\n",
              "    <path d=\"M0 0h24v24H0V0z\" fill=\"none\"/>\n",
              "    <path d=\"M18.56 5.44l.94 2.06.94-2.06 2.06-.94-2.06-.94-.94-2.06-.94 2.06-2.06.94zm-11 1L8.5 8.5l.94-2.06 2.06-.94-2.06-.94L8.5 2.5l-.94 2.06-2.06.94zm10 10l.94 2.06.94-2.06 2.06-.94-2.06-.94-.94-2.06-.94 2.06-2.06.94z\"/><path d=\"M17.41 7.96l-1.37-1.37c-.4-.4-.92-.59-1.43-.59-.52 0-1.04.2-1.43.59L10.3 9.45l-7.72 7.72c-.78.78-.78 2.05 0 2.83L4 21.41c.39.39.9.59 1.41.59.51 0 1.02-.2 1.41-.59l7.78-7.78 2.81-2.81c.8-.78.8-2.07 0-2.86zM5.41 20L4 18.59l7.72-7.72 1.47 1.35L5.41 20z\"/>\n",
              "  </svg>\n",
              "      </button>\n",
              "      \n",
              "  <style>\n",
              "    .colab-df-container {\n",
              "      display:flex;\n",
              "      flex-wrap:wrap;\n",
              "      gap: 12px;\n",
              "    }\n",
              "\n",
              "    .colab-df-convert {\n",
              "      background-color: #E8F0FE;\n",
              "      border: none;\n",
              "      border-radius: 50%;\n",
              "      cursor: pointer;\n",
              "      display: none;\n",
              "      fill: #1967D2;\n",
              "      height: 32px;\n",
              "      padding: 0 0 0 0;\n",
              "      width: 32px;\n",
              "    }\n",
              "\n",
              "    .colab-df-convert:hover {\n",
              "      background-color: #E2EBFA;\n",
              "      box-shadow: 0px 1px 2px rgba(60, 64, 67, 0.3), 0px 1px 3px 1px rgba(60, 64, 67, 0.15);\n",
              "      fill: #174EA6;\n",
              "    }\n",
              "\n",
              "    [theme=dark] .colab-df-convert {\n",
              "      background-color: #3B4455;\n",
              "      fill: #D2E3FC;\n",
              "    }\n",
              "\n",
              "    [theme=dark] .colab-df-convert:hover {\n",
              "      background-color: #434B5C;\n",
              "      box-shadow: 0px 1px 3px 1px rgba(0, 0, 0, 0.15);\n",
              "      filter: drop-shadow(0px 1px 2px rgba(0, 0, 0, 0.3));\n",
              "      fill: #FFFFFF;\n",
              "    }\n",
              "  </style>\n",
              "\n",
              "      <script>\n",
              "        const buttonEl =\n",
              "          document.querySelector('#df-320ad20b-23ec-4ec2-9312-6d2002681114 button.colab-df-convert');\n",
              "        buttonEl.style.display =\n",
              "          google.colab.kernel.accessAllowed ? 'block' : 'none';\n",
              "\n",
              "        async function convertToInteractive(key) {\n",
              "          const element = document.querySelector('#df-320ad20b-23ec-4ec2-9312-6d2002681114');\n",
              "          const dataTable =\n",
              "            await google.colab.kernel.invokeFunction('convertToInteractive',\n",
              "                                                     [key], {});\n",
              "          if (!dataTable) return;\n",
              "\n",
              "          const docLinkHtml = 'Like what you see? Visit the ' +\n",
              "            '<a target=\"_blank\" href=https://colab.research.google.com/notebooks/data_table.ipynb>data table notebook</a>'\n",
              "            + ' to learn more about interactive tables.';\n",
              "          element.innerHTML = '';\n",
              "          dataTable['output_type'] = 'display_data';\n",
              "          await google.colab.output.renderOutput(dataTable, element);\n",
              "          const docLink = document.createElement('div');\n",
              "          docLink.innerHTML = docLinkHtml;\n",
              "          element.appendChild(docLink);\n",
              "        }\n",
              "      </script>\n",
              "    </div>\n",
              "  </div>\n",
              "  "
            ]
          },
          "metadata": {},
          "execution_count": 164
        }
      ]
    },
    {
      "cell_type": "code",
      "source": [
        "from sklearn.cluster import KMeans\n",
        "from yellowbrick.cluster import KElbowVisualizer\n",
        "model = KMeans()\n",
        "# k is range of number of clusters.\n",
        "visualizer = KElbowVisualizer(model, k=(3,7),metric='silhouette', timings= True)\n",
        "visualizer.fit(train_df)        # Fit the data to the visualizer\n",
        "visualizer.show()"
      ],
      "metadata": {
        "colab": {
          "base_uri": "https://localhost:8080/",
          "height": 638
        },
        "id": "_Lv8YJBviOK_",
        "outputId": "e0bce3a4-33a7-4652-9588-96c4c728c660"
      },
      "execution_count": 165,
      "outputs": [
        {
          "output_type": "display_data",
          "data": {
            "text/plain": [
              "<Figure size 1440x720 with 2 Axes>"
            ],
            "image/png": "[encoded data removed]"
          },
          "metadata": {}
        },
        {
          "output_type": "execute_result",
          "data": {
            "text/plain": [
              "<matplotlib.axes._subplots.AxesSubplot at 0x7fb6efa5a310>"
            ]
          },
          "metadata": {},
          "execution_count": 165
        }
      ]
    },
    {
      "cell_type": "markdown",
      "source": [
        "Silhouette score method to find the optimal value of k."
      ],
      "metadata": {
        "id": "EsS00K1KDYef"
      }
    },
    {
      "cell_type": "code",
      "source": [
        "\n",
        "   #finding optimal number of clusters using the elbow method \n",
        "   import matplotlib.pyplot as mtp \n",
        "   from sklearn.cluster import KMeans  \n",
        "   wcss_list = []  #Initializing the list for the values of WCSS  \n",
        "  \n",
        "   #Using for loop for iterations from 1 to 10.  \n",
        "   for i in range(1, 11):  \n",
        "    kmeans = KMeans(n_clusters=i, init='k-means++', random_state = 42)  \n",
        "    kmeans.fit(train_df)  \n",
        "    wcss_list.append(kmeans.inertia_)  \n",
        "   mtp.plot(range(1, 11), wcss_list)  \n",
        "   mtp.title('The Elobw Method Graph')  \n",
        "   mtp.xlabel('Number of clusters(k)')  \n",
        "   mtp.ylabel('wcss_list')  \n",
        "   mtp.show()"
      ],
      "metadata": {
        "colab": {
          "base_uri": "https://localhost:8080/",
          "height": 620
        },
        "id": "6j8zwRjE6iDe",
        "outputId": "670c340f-a17c-4647-d937-7e05d952dc34"
      },
      "execution_count": 166,
      "outputs": [
        {
          "output_type": "display_data",
          "data": {
            "text/plain": [
              "<Figure size 1440x720 with 1 Axes>"
            ],
            "image/png": "[encoded data removed]"
          },
          "metadata": {}
        }
      ]
    },
    {
      "cell_type": "markdown",
      "source": [
        "both WSS and silhouette methods plotted k value as 3. K was chose based on these plots and also these each of the clusters have high similarities within and large variation among them."
      ],
      "metadata": {
        "id": "2cugEd-qab9p"
      }
    },
    {
      "cell_type": "markdown",
      "source": [
        "The WSS Elbow method to find the optimal value of k."
      ],
      "metadata": {
        "id": "UnWxpbguDh3u"
      }
    },
    {
      "cell_type": "code",
      "source": [
        "#Importing required modules\n",
        "from sklearn.decomposition import PCA\n",
        "from sklearn.cluster import KMeans\n",
        "import numpy as np\n",
        "pca = PCA(2)\n",
        " \n",
        "#Transform the data\n",
        "df = pca.fit_transform(df_scaled)\n",
        " \n",
        "df.shape"
      ],
      "metadata": {
        "colab": {
          "base_uri": "https://localhost:8080/"
        },
        "id": "nyOmfQC5rW3Q",
        "outputId": "32933824-ee52-450c-a42a-162793c5acf4"
      },
      "execution_count": 167,
      "outputs": [
        {
          "output_type": "execute_result",
          "data": {
            "text/plain": [
              "(10000, 2)"
            ]
          },
          "metadata": {},
          "execution_count": 167
        }
      ]
    },
    {
      "cell_type": "code",
      "source": [
        "\n",
        "#Import required module\n",
        "from sklearn.cluster import KMeans\n",
        " \n",
        "#Initialize the class object\n",
        "kmeans = KMeans(n_clusters= 3)\n",
        " \n",
        "#predict the labels of clusters.\n",
        "label = kmeans.fit_predict(df)\n",
        " \n",
        "print(label)"
      ],
      "metadata": {
        "colab": {
          "base_uri": "https://localhost:8080/"
        },
        "id": "NOe2kvM6rW6n",
        "outputId": "1455a7bc-b82a-4cb5-b016-9a771b746720"
      },
      "execution_count": 168,
      "outputs": [
        {
          "output_type": "stream",
          "name": "stdout",
          "text": [
            "[1 0 2 ... 2 0 0]\n"
          ]
        }
      ]
    },
    {
      "cell_type": "code",
      "source": [
        "\n",
        "#Getting the Centroids\n",
        "centroids = kmeans.cluster_centers_\n",
        "u_labels = np.unique(label)\n",
        "plt.rcParams[\"figure.figsize\"] = (20,10)\n",
        " \n",
        "#plotting the results:\n",
        " \n",
        "for i in u_labels:\n",
        "    plt.scatter(df[label == i , 0] , df[label == i , 1] , label = i)\n",
        "plt.scatter(centroids[:,0] , centroids[:,1] , s = 100, color = 'k')\n",
        "plt.legend()\n",
        "plt.show()"
      ],
      "metadata": {
        "colab": {
          "base_uri": "https://localhost:8080/",
          "height": 592
        },
        "id": "K1BHlnjTlvaT",
        "outputId": "fc39886c-1c58-405e-a512-d4bf1d7b7d80"
      },
      "execution_count": 169,
      "outputs": [
        {
          "output_type": "display_data",
          "data": {
            "text/plain": [
              "<Figure size 1440x720 with 1 Axes>"
            ],
            "image/png": "[encoded data removed]"
          },
          "metadata": {}
        }
      ]
    },
    {
      "cell_type": "markdown",
      "source": [
        "plotting the three clusters."
      ],
      "metadata": {
        "id": "QH-dYzF_DpI-"
      }
    },
    {
      "cell_type": "code",
      "source": [
        "cluster_zero= train_df[label==0]\n",
        "cluster_zero"
      ],
      "metadata": {
        "colab": {
          "base_uri": "https://localhost:8080/",
          "height": 424
        },
        "id": "YrM5Hs4elvc2",
        "outputId": "587c1266-d021-4eef-b14c-35b06e5d6c2f"
      },
      "execution_count": 170,
      "outputs": [
        {
          "output_type": "execute_result",
          "data": {
            "text/plain": [
              "        plant_id_eia  fuel_received_units  fuel_mmbtu_per_unit  \\\n",
              "28230           7552               108679                1.000   \n",
              "561021          7032                35952                1.068   \n",
              "46623            535                    9                1.000   \n",
              "441937          4014                   37                1.026   \n",
              "42881           2963               134400                1.019   \n",
              "...              ...                  ...                  ...   \n",
              "507898          1417                  899                1.020   \n",
              "480645          2517               660002                1.026   \n",
              "261483          6181                 6151                1.036   \n",
              "21303           2713                 1769                5.800   \n",
              "512287          7829                35183                1.033   \n",
              "\n",
              "        sulfur_content_pct  ash_content_pct  mercury_content_ppm  \\\n",
              "28230                  0.0              0.0                  0.0   \n",
              "561021                 0.0              0.0                  0.0   \n",
              "46623                  0.0              0.0                  0.0   \n",
              "441937                 0.0              0.0                  0.0   \n",
              "42881                  0.0              0.0                  0.0   \n",
              "...                    ...              ...                  ...   \n",
              "507898                 0.0              0.0                  0.0   \n",
              "480645                 0.0              0.0                  0.0   \n",
              "261483                 0.0              0.0                  0.0   \n",
              "21303                  0.2              0.0                  0.0   \n",
              "512287                 0.0              0.0                  0.0   \n",
              "\n",
              "        fuel_group_code  fuel_cost_per_mmbtu  \n",
              "28230                 1               10.724  \n",
              "561021                1                1.493  \n",
              "46623                 1                6.933  \n",
              "441937                1                6.765  \n",
              "42881                 1                6.757  \n",
              "...                 ...                  ...  \n",
              "507898                1                2.030  \n",
              "480645                1                3.382  \n",
              "261483                1                3.219  \n",
              "21303                 3               29.027  \n",
              "512287                1                3.390  \n",
              "\n",
              "[3826 rows x 8 columns]"
            ],
            "text/html": [
              "\n",
              "  <div id=\"df-88904c2b-8296-4d60-bf05-eff68341f70e\">\n",
              "    <div class=\"colab-df-container\">\n",
              "      <div>\n",
              "<style scoped>\n",
              "    .dataframe tbody tr th:only-of-type {\n",
              "        vertical-align: middle;\n",
              "    }\n",
              "\n",
              "    .dataframe tbody tr th {\n",
              "        vertical-align: top;\n",
              "    }\n",
              "\n",
              "    .dataframe thead th {\n",
              "        text-align: right;\n",
              "    }\n",
              "</style>\n",
              "<table border=\"1\" class=\"dataframe\">\n",
              "  <thead>\n",
              "    <tr style=\"text-align: right;\">\n",
              "      <th></th>\n",
              "      <th>plant_id_eia</th>\n",
              "      <th>fuel_received_units</th>\n",
              "      <th>fuel_mmbtu_per_unit</th>\n",
              "      <th>sulfur_content_pct</th>\n",
              "      <th>ash_content_pct</th>\n",
              "      <th>mercury_content_ppm</th>\n",
              "      <th>fuel_group_code</th>\n",
              "      <th>fuel_cost_per_mmbtu</th>\n",
              "    </tr>\n",
              "  </thead>\n",
              "  <tbody>\n",
              "    <tr>\n",
              "      <th>28230</th>\n",
              "      <td>7552</td>\n",
              "      <td>108679</td>\n",
              "      <td>1.000</td>\n",
              "      <td>0.0</td>\n",
              "      <td>0.0</td>\n",
              "      <td>0.0</td>\n",
              "      <td>1</td>\n",
              "      <td>10.724</td>\n",
              "    </tr>\n",
              "    <tr>\n",
              "      <th>561021</th>\n",
              "      <td>7032</td>\n",
              "      <td>35952</td>\n",
              "      <td>1.068</td>\n",
              "      <td>0.0</td>\n",
              "      <td>0.0</td>\n",
              "      <td>0.0</td>\n",
              "      <td>1</td>\n",
              "      <td>1.493</td>\n",
              "    </tr>\n",
              "    <tr>\n",
              "      <th>46623</th>\n",
              "      <td>535</td>\n",
              "      <td>9</td>\n",
              "      <td>1.000</td>\n",
              "      <td>0.0</td>\n",
              "      <td>0.0</td>\n",
              "      <td>0.0</td>\n",
              "      <td>1</td>\n",
              "      <td>6.933</td>\n",
              "    </tr>\n",
              "    <tr>\n",
              "      <th>441937</th>\n",
              "      <td>4014</td>\n",
              "      <td>37</td>\n",
              "      <td>1.026</td>\n",
              "      <td>0.0</td>\n",
              "      <td>0.0</td>\n",
              "      <td>0.0</td>\n",
              "      <td>1</td>\n",
              "      <td>6.765</td>\n",
              "    </tr>\n",
              "    <tr>\n",
              "      <th>42881</th>\n",
              "      <td>2963</td>\n",
              "      <td>134400</td>\n",
              "      <td>1.019</td>\n",
              "      <td>0.0</td>\n",
              "      <td>0.0</td>\n",
              "      <td>0.0</td>\n",
              "      <td>1</td>\n",
              "      <td>6.757</td>\n",
              "    </tr>\n",
              "    <tr>\n",
              "      <th>...</th>\n",
              "      <td>...</td>\n",
              "      <td>...</td>\n",
              "      <td>...</td>\n",
              "      <td>...</td>\n",
              "      <td>...</td>\n",
              "      <td>...</td>\n",
              "      <td>...</td>\n",
              "      <td>...</td>\n",
              "    </tr>\n",
              "    <tr>\n",
              "      <th>507898</th>\n",
              "      <td>1417</td>\n",
              "      <td>899</td>\n",
              "      <td>1.020</td>\n",
              "      <td>0.0</td>\n",
              "      <td>0.0</td>\n",
              "      <td>0.0</td>\n",
              "      <td>1</td>\n",
              "      <td>2.030</td>\n",
              "    </tr>\n",
              "    <tr>\n",
              "      <th>480645</th>\n",
              "      <td>2517</td>\n",
              "      <td>660002</td>\n",
              "      <td>1.026</td>\n",
              "      <td>0.0</td>\n",
              "      <td>0.0</td>\n",
              "      <td>0.0</td>\n",
              "      <td>1</td>\n",
              "      <td>3.382</td>\n",
              "    </tr>\n",
              "    <tr>\n",
              "      <th>261483</th>\n",
              "      <td>6181</td>\n",
              "      <td>6151</td>\n",
              "      <td>1.036</td>\n",
              "      <td>0.0</td>\n",
              "      <td>0.0</td>\n",
              "      <td>0.0</td>\n",
              "      <td>1</td>\n",
              "      <td>3.219</td>\n",
              "    </tr>\n",
              "    <tr>\n",
              "      <th>21303</th>\n",
              "      <td>2713</td>\n",
              "      <td>1769</td>\n",
              "      <td>5.800</td>\n",
              "      <td>0.2</td>\n",
              "      <td>0.0</td>\n",
              "      <td>0.0</td>\n",
              "      <td>3</td>\n",
              "      <td>29.027</td>\n",
              "    </tr>\n",
              "    <tr>\n",
              "      <th>512287</th>\n",
              "      <td>7829</td>\n",
              "      <td>35183</td>\n",
              "      <td>1.033</td>\n",
              "      <td>0.0</td>\n",
              "      <td>0.0</td>\n",
              "      <td>0.0</td>\n",
              "      <td>1</td>\n",
              "      <td>3.390</td>\n",
              "    </tr>\n",
              "  </tbody>\n",
              "</table>\n",
              "<p>3826 rows × 8 columns</p>\n",
              "</div>\n",
              "      <button class=\"colab-df-convert\" onclick=\"convertToInteractive('df-88904c2b-8296-4d60-bf05-eff68341f70e')\"\n",
              "              title=\"Convert this dataframe to an interactive table.\"\n",
              "              style=\"display:none;\">\n",
              "        \n",
              "  <svg xmlns=\"http://www.w3.org/2000/svg\" height=\"24px\"viewBox=\"0 0 24 24\"\n",
              "       width=\"24px\">\n",
              "    <path d=\"M0 0h24v24H0V0z\" fill=\"none\"/>\n",
              "    <path d=\"M18.56 5.44l.94 2.06.94-2.06 2.06-.94-2.06-.94-.94-2.06-.94 2.06-2.06.94zm-11 1L8.5 8.5l.94-2.06 2.06-.94-2.06-.94L8.5 2.5l-.94 2.06-2.06.94zm10 10l.94 2.06.94-2.06 2.06-.94-2.06-.94-.94-2.06-.94 2.06-2.06.94z\"/><path d=\"M17.41 7.96l-1.37-1.37c-.4-.4-.92-.59-1.43-.59-.52 0-1.04.2-1.43.59L10.3 9.45l-7.72 7.72c-.78.78-.78 2.05 0 2.83L4 21.41c.39.39.9.59 1.41.59.51 0 1.02-.2 1.41-.59l7.78-7.78 2.81-2.81c.8-.78.8-2.07 0-2.86zM5.41 20L4 18.59l7.72-7.72 1.47 1.35L5.41 20z\"/>\n",
              "  </svg>\n",
              "      </button>\n",
              "      \n",
              "  <style>\n",
              "    .colab-df-container {\n",
              "      display:flex;\n",
              "      flex-wrap:wrap;\n",
              "      gap: 12px;\n",
              "    }\n",
              "\n",
              "    .colab-df-convert {\n",
              "      background-color: #E8F0FE;\n",
              "      border: none;\n",
              "      border-radius: 50%;\n",
              "      cursor: pointer;\n",
              "      display: none;\n",
              "      fill: #1967D2;\n",
              "      height: 32px;\n",
              "      padding: 0 0 0 0;\n",
              "      width: 32px;\n",
              "    }\n",
              "\n",
              "    .colab-df-convert:hover {\n",
              "      background-color: #E2EBFA;\n",
              "      box-shadow: 0px 1px 2px rgba(60, 64, 67, 0.3), 0px 1px 3px 1px rgba(60, 64, 67, 0.15);\n",
              "      fill: #174EA6;\n",
              "    }\n",
              "\n",
              "    [theme=dark] .colab-df-convert {\n",
              "      background-color: #3B4455;\n",
              "      fill: #D2E3FC;\n",
              "    }\n",
              "\n",
              "    [theme=dark] .colab-df-convert:hover {\n",
              "      background-color: #434B5C;\n",
              "      box-shadow: 0px 1px 3px 1px rgba(0, 0, 0, 0.15);\n",
              "      filter: drop-shadow(0px 1px 2px rgba(0, 0, 0, 0.3));\n",
              "      fill: #FFFFFF;\n",
              "    }\n",
              "  </style>\n",
              "\n",
              "      <script>\n",
              "        const buttonEl =\n",
              "          document.querySelector('#df-88904c2b-8296-4d60-bf05-eff68341f70e button.colab-df-convert');\n",
              "        buttonEl.style.display =\n",
              "          google.colab.kernel.accessAllowed ? 'block' : 'none';\n",
              "\n",
              "        async function convertToInteractive(key) {\n",
              "          const element = document.querySelector('#df-88904c2b-8296-4d60-bf05-eff68341f70e');\n",
              "          const dataTable =\n",
              "            await google.colab.kernel.invokeFunction('convertToInteractive',\n",
              "                                                     [key], {});\n",
              "          if (!dataTable) return;\n",
              "\n",
              "          const docLinkHtml = 'Like what you see? Visit the ' +\n",
              "            '<a target=\"_blank\" href=https://colab.research.google.com/notebooks/data_table.ipynb>data table notebook</a>'\n",
              "            + ' to learn more about interactive tables.';\n",
              "          element.innerHTML = '';\n",
              "          dataTable['output_type'] = 'display_data';\n",
              "          await google.colab.output.renderOutput(dataTable, element);\n",
              "          const docLink = document.createElement('div');\n",
              "          docLink.innerHTML = docLinkHtml;\n",
              "          element.appendChild(docLink);\n",
              "        }\n",
              "      </script>\n",
              "    </div>\n",
              "  </div>\n",
              "  "
            ]
          },
          "metadata": {},
          "execution_count": 170
        }
      ]
    },
    {
      "cell_type": "code",
      "source": [
        "zm = cluster_zero[\"fuel_cost_per_mmbtu\"].mean()\n",
        "print(zm)"
      ],
      "metadata": {
        "colab": {
          "base_uri": "https://localhost:8080/"
        },
        "id": "2qL_8shjIiFT",
        "outputId": "48d754b4-2ccc-4668-f21c-606ab7ff6d4e"
      },
      "execution_count": 209,
      "outputs": [
        {
          "output_type": "stream",
          "name": "stdout",
          "text": [
            "16.31573941453215\n"
          ]
        }
      ]
    },
    {
      "cell_type": "code",
      "source": [
        "dups = cluster_zero.pivot_table(columns=['fuel_group_code'], aggfunc='size')\n",
        "print (dups)\n",
        "#1-natural gas\n",
        "#3-petroleum"
      ],
      "metadata": {
        "colab": {
          "base_uri": "https://localhost:8080/"
        },
        "id": "zmOL_x_QrCAt",
        "outputId": "b54ac53e-9540-4fe2-c95b-addf2ce431ce"
      },
      "execution_count": 180,
      "outputs": [
        {
          "output_type": "stream",
          "name": "stdout",
          "text": [
            "fuel_group_code\n",
            "1    2899\n",
            "2       9\n",
            "3     916\n",
            "4       2\n",
            "dtype: int64\n"
          ]
        }
      ]
    },
    {
      "cell_type": "code",
      "source": [
        "print(cluster_zero['fuel_group_code'].mode())"
      ],
      "metadata": {
        "colab": {
          "base_uri": "https://localhost:8080/"
        },
        "id": "pNktiwrMKIkp",
        "outputId": "670e2388-1314-4633-eb53-e23e40b8ba49"
      },
      "execution_count": 172,
      "outputs": [
        {
          "output_type": "stream",
          "name": "stdout",
          "text": [
            "0    1\n",
            "dtype: int8\n"
          ]
        }
      ]
    },
    {
      "cell_type": "code",
      "source": [
        "cluster_one=train_df[label==1]\n",
        "cluster_one"
      ],
      "metadata": {
        "colab": {
          "base_uri": "https://localhost:8080/",
          "height": 424
        },
        "id": "JyzZ3XtTlvf5",
        "outputId": "44206701-1ff3-4fca-fd42-e3cc2dbd541b"
      },
      "execution_count": 173,
      "outputs": [
        {
          "output_type": "execute_result",
          "data": {
            "text/plain": [
              "        plant_id_eia  fuel_received_units  fuel_mmbtu_per_unit  \\\n",
              "68397           2103               115714               17.580   \n",
              "221395          2324                11223               22.000   \n",
              "316522          2080                15131               17.632   \n",
              "128703          3140                12019               24.950   \n",
              "396575         50835                17248               25.570   \n",
              "...              ...                  ...                  ...   \n",
              "33946           8066               214422               18.797   \n",
              "599696          1702                15889               17.536   \n",
              "99582           4078                44278               17.760   \n",
              "304816          3954                15834               23.977   \n",
              "99472           3936                 2600               23.966   \n",
              "\n",
              "        sulfur_content_pct  ash_content_pct  mercury_content_ppm  \\\n",
              "68397                 0.39             5.20                  0.0   \n",
              "221395                0.38            11.90                  0.0   \n",
              "316522                0.42             5.70                  0.0   \n",
              "128703                1.25            11.70                  0.0   \n",
              "396575                2.24             7.50                  0.0   \n",
              "...                    ...              ...                  ...   \n",
              "33946                 0.48             9.00                  0.0   \n",
              "599696                0.20             4.40                  0.0   \n",
              "99582                 0.31             5.00                  0.0   \n",
              "304816                1.80            17.10                  0.0   \n",
              "99472                 0.84            12.99                  0.0   \n",
              "\n",
              "        fuel_group_code  fuel_cost_per_mmbtu  \n",
              "68397                 0                1.148  \n",
              "221395                0                2.874  \n",
              "316522                0                1.902  \n",
              "128703                0                3.276  \n",
              "396575                0                3.276  \n",
              "...                 ...                  ...  \n",
              "33946                 0                0.867  \n",
              "599696                0                2.093  \n",
              "99582                 0                1.944  \n",
              "304816                0                2.672  \n",
              "99472                 0                3.089  \n",
              "\n",
              "[3574 rows x 8 columns]"
            ],
            "text/html": [
              "\n",
              "  <div id=\"df-6755c254-9fcc-4280-a9c6-3a69a7bedcbf\">\n",
              "    <div class=\"colab-df-container\">\n",
              "      <div>\n",
              "<style scoped>\n",
              "    .dataframe tbody tr th:only-of-type {\n",
              "        vertical-align: middle;\n",
              "    }\n",
              "\n",
              "    .dataframe tbody tr th {\n",
              "        vertical-align: top;\n",
              "    }\n",
              "\n",
              "    .dataframe thead th {\n",
              "        text-align: right;\n",
              "    }\n",
              "</style>\n",
              "<table border=\"1\" class=\"dataframe\">\n",
              "  <thead>\n",
              "    <tr style=\"text-align: right;\">\n",
              "      <th></th>\n",
              "      <th>plant_id_eia</th>\n",
              "      <th>fuel_received_units</th>\n",
              "      <th>fuel_mmbtu_per_unit</th>\n",
              "      <th>sulfur_content_pct</th>\n",
              "      <th>ash_content_pct</th>\n",
              "      <th>mercury_content_ppm</th>\n",
              "      <th>fuel_group_code</th>\n",
              "      <th>fuel_cost_per_mmbtu</th>\n",
              "    </tr>\n",
              "  </thead>\n",
              "  <tbody>\n",
              "    <tr>\n",
              "      <th>68397</th>\n",
              "      <td>2103</td>\n",
              "      <td>115714</td>\n",
              "      <td>17.580</td>\n",
              "      <td>0.39</td>\n",
              "      <td>5.20</td>\n",
              "      <td>0.0</td>\n",
              "      <td>0</td>\n",
              "      <td>1.148</td>\n",
              "    </tr>\n",
              "    <tr>\n",
              "      <th>221395</th>\n",
              "      <td>2324</td>\n",
              "      <td>11223</td>\n",
              "      <td>22.000</td>\n",
              "      <td>0.38</td>\n",
              "      <td>11.90</td>\n",
              "      <td>0.0</td>\n",
              "      <td>0</td>\n",
              "      <td>2.874</td>\n",
              "    </tr>\n",
              "    <tr>\n",
              "      <th>316522</th>\n",
              "      <td>2080</td>\n",
              "      <td>15131</td>\n",
              "      <td>17.632</td>\n",
              "      <td>0.42</td>\n",
              "      <td>5.70</td>\n",
              "      <td>0.0</td>\n",
              "      <td>0</td>\n",
              "      <td>1.902</td>\n",
              "    </tr>\n",
              "    <tr>\n",
              "      <th>128703</th>\n",
              "      <td>3140</td>\n",
              "      <td>12019</td>\n",
              "      <td>24.950</td>\n",
              "      <td>1.25</td>\n",
              "      <td>11.70</td>\n",
              "      <td>0.0</td>\n",
              "      <td>0</td>\n",
              "      <td>3.276</td>\n",
              "    </tr>\n",
              "    <tr>\n",
              "      <th>396575</th>\n",
              "      <td>50835</td>\n",
              "      <td>17248</td>\n",
              "      <td>25.570</td>\n",
              "      <td>2.24</td>\n",
              "      <td>7.50</td>\n",
              "      <td>0.0</td>\n",
              "      <td>0</td>\n",
              "      <td>3.276</td>\n",
              "    </tr>\n",
              "    <tr>\n",
              "      <th>...</th>\n",
              "      <td>...</td>\n",
              "      <td>...</td>\n",
              "      <td>...</td>\n",
              "      <td>...</td>\n",
              "      <td>...</td>\n",
              "      <td>...</td>\n",
              "      <td>...</td>\n",
              "      <td>...</td>\n",
              "    </tr>\n",
              "    <tr>\n",
              "      <th>33946</th>\n",
              "      <td>8066</td>\n",
              "      <td>214422</td>\n",
              "      <td>18.797</td>\n",
              "      <td>0.48</td>\n",
              "      <td>9.00</td>\n",
              "      <td>0.0</td>\n",
              "      <td>0</td>\n",
              "      <td>0.867</td>\n",
              "    </tr>\n",
              "    <tr>\n",
              "      <th>599696</th>\n",
              "      <td>1702</td>\n",
              "      <td>15889</td>\n",
              "      <td>17.536</td>\n",
              "      <td>0.20</td>\n",
              "      <td>4.40</td>\n",
              "      <td>0.0</td>\n",
              "      <td>0</td>\n",
              "      <td>2.093</td>\n",
              "    </tr>\n",
              "    <tr>\n",
              "      <th>99582</th>\n",
              "      <td>4078</td>\n",
              "      <td>44278</td>\n",
              "      <td>17.760</td>\n",
              "      <td>0.31</td>\n",
              "      <td>5.00</td>\n",
              "      <td>0.0</td>\n",
              "      <td>0</td>\n",
              "      <td>1.944</td>\n",
              "    </tr>\n",
              "    <tr>\n",
              "      <th>304816</th>\n",
              "      <td>3954</td>\n",
              "      <td>15834</td>\n",
              "      <td>23.977</td>\n",
              "      <td>1.80</td>\n",
              "      <td>17.10</td>\n",
              "      <td>0.0</td>\n",
              "      <td>0</td>\n",
              "      <td>2.672</td>\n",
              "    </tr>\n",
              "    <tr>\n",
              "      <th>99472</th>\n",
              "      <td>3936</td>\n",
              "      <td>2600</td>\n",
              "      <td>23.966</td>\n",
              "      <td>0.84</td>\n",
              "      <td>12.99</td>\n",
              "      <td>0.0</td>\n",
              "      <td>0</td>\n",
              "      <td>3.089</td>\n",
              "    </tr>\n",
              "  </tbody>\n",
              "</table>\n",
              "<p>3574 rows × 8 columns</p>\n",
              "</div>\n",
              "      <button class=\"colab-df-convert\" onclick=\"convertToInteractive('df-6755c254-9fcc-4280-a9c6-3a69a7bedcbf')\"\n",
              "              title=\"Convert this dataframe to an interactive table.\"\n",
              "              style=\"display:none;\">\n",
              "        \n",
              "  <svg xmlns=\"http://www.w3.org/2000/svg\" height=\"24px\"viewBox=\"0 0 24 24\"\n",
              "       width=\"24px\">\n",
              "    <path d=\"M0 0h24v24H0V0z\" fill=\"none\"/>\n",
              "    <path d=\"M18.56 5.44l.94 2.06.94-2.06 2.06-.94-2.06-.94-.94-2.06-.94 2.06-2.06.94zm-11 1L8.5 8.5l.94-2.06 2.06-.94-2.06-.94L8.5 2.5l-.94 2.06-2.06.94zm10 10l.94 2.06.94-2.06 2.06-.94-2.06-.94-.94-2.06-.94 2.06-2.06.94z\"/><path d=\"M17.41 7.96l-1.37-1.37c-.4-.4-.92-.59-1.43-.59-.52 0-1.04.2-1.43.59L10.3 9.45l-7.72 7.72c-.78.78-.78 2.05 0 2.83L4 21.41c.39.39.9.59 1.41.59.51 0 1.02-.2 1.41-.59l7.78-7.78 2.81-2.81c.8-.78.8-2.07 0-2.86zM5.41 20L4 18.59l7.72-7.72 1.47 1.35L5.41 20z\"/>\n",
              "  </svg>\n",
              "      </button>\n",
              "      \n",
              "  <style>\n",
              "    .colab-df-container {\n",
              "      display:flex;\n",
              "      flex-wrap:wrap;\n",
              "      gap: 12px;\n",
              "    }\n",
              "\n",
              "    .colab-df-convert {\n",
              "      background-color: #E8F0FE;\n",
              "      border: none;\n",
              "      border-radius: 50%;\n",
              "      cursor: pointer;\n",
              "      display: none;\n",
              "      fill: #1967D2;\n",
              "      height: 32px;\n",
              "      padding: 0 0 0 0;\n",
              "      width: 32px;\n",
              "    }\n",
              "\n",
              "    .colab-df-convert:hover {\n",
              "      background-color: #E2EBFA;\n",
              "      box-shadow: 0px 1px 2px rgba(60, 64, 67, 0.3), 0px 1px 3px 1px rgba(60, 64, 67, 0.15);\n",
              "      fill: #174EA6;\n",
              "    }\n",
              "\n",
              "    [theme=dark] .colab-df-convert {\n",
              "      background-color: #3B4455;\n",
              "      fill: #D2E3FC;\n",
              "    }\n",
              "\n",
              "    [theme=dark] .colab-df-convert:hover {\n",
              "      background-color: #434B5C;\n",
              "      box-shadow: 0px 1px 3px 1px rgba(0, 0, 0, 0.15);\n",
              "      filter: drop-shadow(0px 1px 2px rgba(0, 0, 0, 0.3));\n",
              "      fill: #FFFFFF;\n",
              "    }\n",
              "  </style>\n",
              "\n",
              "      <script>\n",
              "        const buttonEl =\n",
              "          document.querySelector('#df-6755c254-9fcc-4280-a9c6-3a69a7bedcbf button.colab-df-convert');\n",
              "        buttonEl.style.display =\n",
              "          google.colab.kernel.accessAllowed ? 'block' : 'none';\n",
              "\n",
              "        async function convertToInteractive(key) {\n",
              "          const element = document.querySelector('#df-6755c254-9fcc-4280-a9c6-3a69a7bedcbf');\n",
              "          const dataTable =\n",
              "            await google.colab.kernel.invokeFunction('convertToInteractive',\n",
              "                                                     [key], {});\n",
              "          if (!dataTable) return;\n",
              "\n",
              "          const docLinkHtml = 'Like what you see? Visit the ' +\n",
              "            '<a target=\"_blank\" href=https://colab.research.google.com/notebooks/data_table.ipynb>data table notebook</a>'\n",
              "            + ' to learn more about interactive tables.';\n",
              "          element.innerHTML = '';\n",
              "          dataTable['output_type'] = 'display_data';\n",
              "          await google.colab.output.renderOutput(dataTable, element);\n",
              "          const docLink = document.createElement('div');\n",
              "          docLink.innerHTML = docLinkHtml;\n",
              "          element.appendChild(docLink);\n",
              "        }\n",
              "      </script>\n",
              "    </div>\n",
              "  </div>\n",
              "  "
            ]
          },
          "metadata": {},
          "execution_count": 173
        }
      ]
    },
    {
      "cell_type": "code",
      "source": [
        "dups = cluster_one.pivot_table(columns=['fuel_group_code'], aggfunc='size')\n",
        "print (dups)\n",
        "#0-coal\n",
        "#1-natural gas\n",
        "#3-petroleum"
      ],
      "metadata": {
        "colab": {
          "base_uri": "https://localhost:8080/"
        },
        "id": "tNgOv_bsr04b",
        "outputId": "5ad14975-6b1d-4e4c-f18d-e417434b4704"
      },
      "execution_count": 181,
      "outputs": [
        {
          "output_type": "stream",
          "name": "stdout",
          "text": [
            "fuel_group_code\n",
            "0    3530\n",
            "4      44\n",
            "dtype: int64\n"
          ]
        }
      ]
    },
    {
      "cell_type": "code",
      "source": [
        "zm = cluster_one[\"fuel_cost_per_mmbtu\"].mean()\n",
        "print(zm)"
      ],
      "metadata": {
        "colab": {
          "base_uri": "https://localhost:8080/"
        },
        "id": "5H1viqFzJm6U",
        "outputId": "518124b5-9519-4d34-b6d8-3a11e9cf7ce8"
      },
      "execution_count": 201,
      "outputs": [
        {
          "output_type": "stream",
          "name": "stdout",
          "text": [
            "2.699217123670957\n"
          ]
        }
      ]
    },
    {
      "cell_type": "code",
      "source": [
        "\n",
        "print(cluster_one['fuel_group_code'].mode())"
      ],
      "metadata": {
        "colab": {
          "base_uri": "https://localhost:8080/"
        },
        "id": "h90au7X1KZjd",
        "outputId": "8521bd65-d8bf-4213-a0b7-7f4adb7cb0d3"
      },
      "execution_count": 175,
      "outputs": [
        {
          "output_type": "stream",
          "name": "stdout",
          "text": [
            "0    0\n",
            "dtype: int8\n"
          ]
        }
      ]
    },
    {
      "cell_type": "code",
      "source": [
        "cluster_two=train_df[label==2]\n",
        "cluster_two"
      ],
      "metadata": {
        "colab": {
          "base_uri": "https://localhost:8080/",
          "height": 424
        },
        "id": "RzqKBmEIlvi1",
        "outputId": "f2d425b9-b725-41f3-ea52-81b8633546e2"
      },
      "execution_count": 202,
      "outputs": [
        {
          "output_type": "execute_result",
          "data": {
            "text/plain": [
              "        plant_id_eia  fuel_received_units  fuel_mmbtu_per_unit  \\\n",
              "591750         50243                11927                1.036   \n",
              "116722         55380                57731                1.036   \n",
              "61377          55269                 9515                1.029   \n",
              "249750         56476                  400                1.021   \n",
              "458485         56196               212722                1.028   \n",
              "...              ...                  ...                  ...   \n",
              "602087         55938                   82                1.065   \n",
              "579786         55243                33706                1.030   \n",
              "480608          2336              2674357                1.044   \n",
              "526056         55141                  419                1.027   \n",
              "601343         52006               115976                1.050   \n",
              "\n",
              "        sulfur_content_pct  ash_content_pct  mercury_content_ppm  \\\n",
              "591750                 0.0              0.0                  0.0   \n",
              "116722                 0.0              0.0                  0.0   \n",
              "61377                  0.0              0.0                  0.0   \n",
              "249750                 0.0              0.0                  0.0   \n",
              "458485                 0.0              0.0                  0.0   \n",
              "...                    ...              ...                  ...   \n",
              "602087                 0.0              0.0                  0.0   \n",
              "579786                 0.0              0.0                  0.0   \n",
              "480608                 0.0              0.0                  0.0   \n",
              "526056                 0.0              0.0                  0.0   \n",
              "601343                 0.0              0.0                  0.0   \n",
              "\n",
              "        fuel_group_code  fuel_cost_per_mmbtu  \n",
              "591750                1                3.276  \n",
              "116722                1                3.276  \n",
              "61377                 1                3.276  \n",
              "249750                2                2.600  \n",
              "458485                1                2.680  \n",
              "...                 ...                  ...  \n",
              "602087                1                3.276  \n",
              "579786                1                3.276  \n",
              "480608                1                2.384  \n",
              "526056                1                2.128  \n",
              "601343                1                3.276  \n",
              "\n",
              "[2600 rows x 8 columns]"
            ],
            "text/html": [
              "\n",
              "  <div id=\"df-4e9f9475-b54a-459d-8057-88846ce42a6e\">\n",
              "    <div class=\"colab-df-container\">\n",
              "      <div>\n",
              "<style scoped>\n",
              "    .dataframe tbody tr th:only-of-type {\n",
              "        vertical-align: middle;\n",
              "    }\n",
              "\n",
              "    .dataframe tbody tr th {\n",
              "        vertical-align: top;\n",
              "    }\n",
              "\n",
              "    .dataframe thead th {\n",
              "        text-align: right;\n",
              "    }\n",
              "</style>\n",
              "<table border=\"1\" class=\"dataframe\">\n",
              "  <thead>\n",
              "    <tr style=\"text-align: right;\">\n",
              "      <th></th>\n",
              "      <th>plant_id_eia</th>\n",
              "      <th>fuel_received_units</th>\n",
              "      <th>fuel_mmbtu_per_unit</th>\n",
              "      <th>sulfur_content_pct</th>\n",
              "      <th>ash_content_pct</th>\n",
              "      <th>mercury_content_ppm</th>\n",
              "      <th>fuel_group_code</th>\n",
              "      <th>fuel_cost_per_mmbtu</th>\n",
              "    </tr>\n",
              "  </thead>\n",
              "  <tbody>\n",
              "    <tr>\n",
              "      <th>591750</th>\n",
              "      <td>50243</td>\n",
              "      <td>11927</td>\n",
              "      <td>1.036</td>\n",
              "      <td>0.0</td>\n",
              "      <td>0.0</td>\n",
              "      <td>0.0</td>\n",
              "      <td>1</td>\n",
              "      <td>3.276</td>\n",
              "    </tr>\n",
              "    <tr>\n",
              "      <th>116722</th>\n",
              "      <td>55380</td>\n",
              "      <td>57731</td>\n",
              "      <td>1.036</td>\n",
              "      <td>0.0</td>\n",
              "      <td>0.0</td>\n",
              "      <td>0.0</td>\n",
              "      <td>1</td>\n",
              "      <td>3.276</td>\n",
              "    </tr>\n",
              "    <tr>\n",
              "      <th>61377</th>\n",
              "      <td>55269</td>\n",
              "      <td>9515</td>\n",
              "      <td>1.029</td>\n",
              "      <td>0.0</td>\n",
              "      <td>0.0</td>\n",
              "      <td>0.0</td>\n",
              "      <td>1</td>\n",
              "      <td>3.276</td>\n",
              "    </tr>\n",
              "    <tr>\n",
              "      <th>249750</th>\n",
              "      <td>56476</td>\n",
              "      <td>400</td>\n",
              "      <td>1.021</td>\n",
              "      <td>0.0</td>\n",
              "      <td>0.0</td>\n",
              "      <td>0.0</td>\n",
              "      <td>2</td>\n",
              "      <td>2.600</td>\n",
              "    </tr>\n",
              "    <tr>\n",
              "      <th>458485</th>\n",
              "      <td>56196</td>\n",
              "      <td>212722</td>\n",
              "      <td>1.028</td>\n",
              "      <td>0.0</td>\n",
              "      <td>0.0</td>\n",
              "      <td>0.0</td>\n",
              "      <td>1</td>\n",
              "      <td>2.680</td>\n",
              "    </tr>\n",
              "    <tr>\n",
              "      <th>...</th>\n",
              "      <td>...</td>\n",
              "      <td>...</td>\n",
              "      <td>...</td>\n",
              "      <td>...</td>\n",
              "      <td>...</td>\n",
              "      <td>...</td>\n",
              "      <td>...</td>\n",
              "      <td>...</td>\n",
              "    </tr>\n",
              "    <tr>\n",
              "      <th>602087</th>\n",
              "      <td>55938</td>\n",
              "      <td>82</td>\n",
              "      <td>1.065</td>\n",
              "      <td>0.0</td>\n",
              "      <td>0.0</td>\n",
              "      <td>0.0</td>\n",
              "      <td>1</td>\n",
              "      <td>3.276</td>\n",
              "    </tr>\n",
              "    <tr>\n",
              "      <th>579786</th>\n",
              "      <td>55243</td>\n",
              "      <td>33706</td>\n",
              "      <td>1.030</td>\n",
              "      <td>0.0</td>\n",
              "      <td>0.0</td>\n",
              "      <td>0.0</td>\n",
              "      <td>1</td>\n",
              "      <td>3.276</td>\n",
              "    </tr>\n",
              "    <tr>\n",
              "      <th>480608</th>\n",
              "      <td>2336</td>\n",
              "      <td>2674357</td>\n",
              "      <td>1.044</td>\n",
              "      <td>0.0</td>\n",
              "      <td>0.0</td>\n",
              "      <td>0.0</td>\n",
              "      <td>1</td>\n",
              "      <td>2.384</td>\n",
              "    </tr>\n",
              "    <tr>\n",
              "      <th>526056</th>\n",
              "      <td>55141</td>\n",
              "      <td>419</td>\n",
              "      <td>1.027</td>\n",
              "      <td>0.0</td>\n",
              "      <td>0.0</td>\n",
              "      <td>0.0</td>\n",
              "      <td>1</td>\n",
              "      <td>2.128</td>\n",
              "    </tr>\n",
              "    <tr>\n",
              "      <th>601343</th>\n",
              "      <td>52006</td>\n",
              "      <td>115976</td>\n",
              "      <td>1.050</td>\n",
              "      <td>0.0</td>\n",
              "      <td>0.0</td>\n",
              "      <td>0.0</td>\n",
              "      <td>1</td>\n",
              "      <td>3.276</td>\n",
              "    </tr>\n",
              "  </tbody>\n",
              "</table>\n",
              "<p>2600 rows × 8 columns</p>\n",
              "</div>\n",
              "      <button class=\"colab-df-convert\" onclick=\"convertToInteractive('df-4e9f9475-b54a-459d-8057-88846ce42a6e')\"\n",
              "              title=\"Convert this dataframe to an interactive table.\"\n",
              "              style=\"display:none;\">\n",
              "        \n",
              "  <svg xmlns=\"http://www.w3.org/2000/svg\" height=\"24px\"viewBox=\"0 0 24 24\"\n",
              "       width=\"24px\">\n",
              "    <path d=\"M0 0h24v24H0V0z\" fill=\"none\"/>\n",
              "    <path d=\"M18.56 5.44l.94 2.06.94-2.06 2.06-.94-2.06-.94-.94-2.06-.94 2.06-2.06.94zm-11 1L8.5 8.5l.94-2.06 2.06-.94-2.06-.94L8.5 2.5l-.94 2.06-2.06.94zm10 10l.94 2.06.94-2.06 2.06-.94-2.06-.94-.94-2.06-.94 2.06-2.06.94z\"/><path d=\"M17.41 7.96l-1.37-1.37c-.4-.4-.92-.59-1.43-.59-.52 0-1.04.2-1.43.59L10.3 9.45l-7.72 7.72c-.78.78-.78 2.05 0 2.83L4 21.41c.39.39.9.59 1.41.59.51 0 1.02-.2 1.41-.59l7.78-7.78 2.81-2.81c.8-.78.8-2.07 0-2.86zM5.41 20L4 18.59l7.72-7.72 1.47 1.35L5.41 20z\"/>\n",
              "  </svg>\n",
              "      </button>\n",
              "      \n",
              "  <style>\n",
              "    .colab-df-container {\n",
              "      display:flex;\n",
              "      flex-wrap:wrap;\n",
              "      gap: 12px;\n",
              "    }\n",
              "\n",
              "    .colab-df-convert {\n",
              "      background-color: #E8F0FE;\n",
              "      border: none;\n",
              "      border-radius: 50%;\n",
              "      cursor: pointer;\n",
              "      display: none;\n",
              "      fill: #1967D2;\n",
              "      height: 32px;\n",
              "      padding: 0 0 0 0;\n",
              "      width: 32px;\n",
              "    }\n",
              "\n",
              "    .colab-df-convert:hover {\n",
              "      background-color: #E2EBFA;\n",
              "      box-shadow: 0px 1px 2px rgba(60, 64, 67, 0.3), 0px 1px 3px 1px rgba(60, 64, 67, 0.15);\n",
              "      fill: #174EA6;\n",
              "    }\n",
              "\n",
              "    [theme=dark] .colab-df-convert {\n",
              "      background-color: #3B4455;\n",
              "      fill: #D2E3FC;\n",
              "    }\n",
              "\n",
              "    [theme=dark] .colab-df-convert:hover {\n",
              "      background-color: #434B5C;\n",
              "      box-shadow: 0px 1px 3px 1px rgba(0, 0, 0, 0.15);\n",
              "      filter: drop-shadow(0px 1px 2px rgba(0, 0, 0, 0.3));\n",
              "      fill: #FFFFFF;\n",
              "    }\n",
              "  </style>\n",
              "\n",
              "      <script>\n",
              "        const buttonEl =\n",
              "          document.querySelector('#df-4e9f9475-b54a-459d-8057-88846ce42a6e button.colab-df-convert');\n",
              "        buttonEl.style.display =\n",
              "          google.colab.kernel.accessAllowed ? 'block' : 'none';\n",
              "\n",
              "        async function convertToInteractive(key) {\n",
              "          const element = document.querySelector('#df-4e9f9475-b54a-459d-8057-88846ce42a6e');\n",
              "          const dataTable =\n",
              "            await google.colab.kernel.invokeFunction('convertToInteractive',\n",
              "                                                     [key], {});\n",
              "          if (!dataTable) return;\n",
              "\n",
              "          const docLinkHtml = 'Like what you see? Visit the ' +\n",
              "            '<a target=\"_blank\" href=https://colab.research.google.com/notebooks/data_table.ipynb>data table notebook</a>'\n",
              "            + ' to learn more about interactive tables.';\n",
              "          element.innerHTML = '';\n",
              "          dataTable['output_type'] = 'display_data';\n",
              "          await google.colab.output.renderOutput(dataTable, element);\n",
              "          const docLink = document.createElement('div');\n",
              "          docLink.innerHTML = docLinkHtml;\n",
              "          element.appendChild(docLink);\n",
              "        }\n",
              "      </script>\n",
              "    </div>\n",
              "  </div>\n",
              "  "
            ]
          },
          "metadata": {},
          "execution_count": 202
        }
      ]
    },
    {
      "cell_type": "code",
      "source": [
        "zm = cluster_two[\"fuel_cost_per_mmbtu\"].mean()\n",
        "print(zm)"
      ],
      "metadata": {
        "colab": {
          "base_uri": "https://localhost:8080/"
        },
        "id": "WHQVzP2-K6NV",
        "outputId": "7465e359-be67-430c-b4e4-58654a679a2f"
      },
      "execution_count": 208,
      "outputs": [
        {
          "output_type": "stream",
          "name": "stdout",
          "text": [
            "4.994497692307692\n"
          ]
        }
      ]
    },
    {
      "cell_type": "code",
      "source": [
        "print(cluster_two['fuel_group_code'].mode())"
      ],
      "metadata": {
        "colab": {
          "base_uri": "https://localhost:8080/"
        },
        "id": "w1Xn1uKkKqxQ",
        "outputId": "fa19ff51-d2a7-4aa5-b693-23e9e952770e"
      },
      "execution_count": 178,
      "outputs": [
        {
          "output_type": "stream",
          "name": "stdout",
          "text": [
            "0    1\n",
            "dtype: int8\n"
          ]
        }
      ]
    },
    {
      "cell_type": "code",
      "source": [
        "dups= cluster_two.pivot_table(columns=['fuel_group_code'], aggfunc='size')\n",
        "print (dups)\n",
        "#0-coal\n",
        "#1-natural gas\n",
        "#3-petroleum\n",
        "#2-other gases"
      ],
      "metadata": {
        "colab": {
          "base_uri": "https://localhost:8080/"
        },
        "id": "mTBKowmPsT9A",
        "outputId": "713254ca-5e45-43b2-a2e2-5d375f14c593"
      },
      "execution_count": 182,
      "outputs": [
        {
          "output_type": "stream",
          "name": "stdout",
          "text": [
            "fuel_group_code\n",
            "0      16\n",
            "1    2556\n",
            "2      27\n",
            "3       1\n",
            "dtype: int64\n"
          ]
        }
      ]
    },
    {
      "cell_type": "markdown",
      "source": [
        "#From the analysis it can be said that, although cluster 1 which has a fuel group as coal is very inexpensive whilst compared to the other two groups, it has contaminants like ash, Sulphur and mercury that cause greenhouse gases. Our focus is to determine the type of fuel which is both environmentally friendly and cost friendly. Well, in that case, cluster 2 which has a fuel group as natural gas has many approving attributes such as reasonable cost concerning the fuel units it is receiving and has practically zero impurities. From this, Natural Gas can be suggested to US Power Generation."
      ],
      "metadata": {
        "id": "17clup6uc7la"
      }
    },
    {
      "cell_type": "code",
      "source": [],
      "metadata": {
        "id": "Qdk1AdmfsXnp"
      },
      "execution_count": null,
      "outputs": []
    }
  ]
}